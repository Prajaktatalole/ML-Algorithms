{
 "cells": [
  {
   "cell_type": "markdown",
   "id": "48ef9517-5a43-48a6-ac4c-90a49dd13b01",
   "metadata": {},
   "source": [
    "A data mining technique that is used to uncover purchase patterns in any retail setting is known as Market Basket Analysis.\n",
    "In simple terms Basically, Market basket analysis in data mining is to analyze the combination of products which been bought together."
   ]
  },
  {
   "cell_type": "markdown",
   "id": "393e983d-73e9-4910-b930-5d4277efca33",
   "metadata": {},
   "source": [
    "Market basket analysis mainly works with the ASSOCIATION RULE {IF} -> {THEN}.\n",
    "\n",
    "IF means Antecedent: An antecedent is an item found within the data\n",
    "THEN means Consequent: A consequent is an item found in combination with the antecedent. "
   ]
  },
  {
   "cell_type": "markdown",
   "id": "976d61b6-e202-4753-9911-88247663154b",
   "metadata": {},
   "source": [
    "support(x==>y)= no of transaction containing (x,y)/total no of transactions\n",
    "confidence(x===>y)= support(x,y)/support(x)\n",
    "lift(x===>y)=support(x,y)/support(x)*support(y)"
   ]
  },
  {
   "cell_type": "markdown",
   "id": "fe678342-0035-436b-9095-3728af037ef4",
   "metadata": {},
   "source": [
    "## Appriori Algorithm"
   ]
  },
  {
   "cell_type": "code",
   "execution_count": 32,
   "id": "7e8c0814-3f7f-4deb-a489-0663855c3648",
   "metadata": {},
   "outputs": [],
   "source": [
    "import os,sys\n",
    "import numpy as np\n",
    "import pandas as pd\n",
    "import matplotlib.pyplot as plt\n",
    "import seaborn as sns\n",
    "%matplotlib inline\n",
    "import warnings \n",
    "warnings.filterwarnings('ignore')\n",
    "from scipy import stats"
   ]
  },
  {
   "cell_type": "code",
   "execution_count": 33,
   "id": "93d0af7a-8af3-48ef-bf32-b221ff1a78f9",
   "metadata": {},
   "outputs": [],
   "source": [
    "df=pd.read_csv(r'C:\\Users\\Admin\\Desktop\\Datasets\\Market_Basket_Optimisation.csv',header=None)"
   ]
  },
  {
   "cell_type": "code",
   "execution_count": 34,
   "id": "8821b5ff-d3a1-48b2-acc4-5e89f055bcce",
   "metadata": {},
   "outputs": [
    {
     "data": {
      "text/html": [
       "<div>\n",
       "<style scoped>\n",
       "    .dataframe tbody tr th:only-of-type {\n",
       "        vertical-align: middle;\n",
       "    }\n",
       "\n",
       "    .dataframe tbody tr th {\n",
       "        vertical-align: top;\n",
       "    }\n",
       "\n",
       "    .dataframe thead th {\n",
       "        text-align: right;\n",
       "    }\n",
       "</style>\n",
       "<table border=\"1\" class=\"dataframe\">\n",
       "  <thead>\n",
       "    <tr style=\"text-align: right;\">\n",
       "      <th></th>\n",
       "      <th>0</th>\n",
       "      <th>1</th>\n",
       "      <th>2</th>\n",
       "      <th>3</th>\n",
       "      <th>4</th>\n",
       "      <th>5</th>\n",
       "      <th>6</th>\n",
       "      <th>7</th>\n",
       "      <th>8</th>\n",
       "      <th>9</th>\n",
       "      <th>10</th>\n",
       "      <th>11</th>\n",
       "      <th>12</th>\n",
       "      <th>13</th>\n",
       "      <th>14</th>\n",
       "      <th>15</th>\n",
       "      <th>16</th>\n",
       "      <th>17</th>\n",
       "      <th>18</th>\n",
       "      <th>19</th>\n",
       "    </tr>\n",
       "  </thead>\n",
       "  <tbody>\n",
       "    <tr>\n",
       "      <th>0</th>\n",
       "      <td>shrimp</td>\n",
       "      <td>almonds</td>\n",
       "      <td>avocado</td>\n",
       "      <td>vegetables mix</td>\n",
       "      <td>green grapes</td>\n",
       "      <td>whole weat flour</td>\n",
       "      <td>yams</td>\n",
       "      <td>cottage cheese</td>\n",
       "      <td>energy drink</td>\n",
       "      <td>tomato juice</td>\n",
       "      <td>low fat yogurt</td>\n",
       "      <td>green tea</td>\n",
       "      <td>honey</td>\n",
       "      <td>salad</td>\n",
       "      <td>mineral water</td>\n",
       "      <td>salmon</td>\n",
       "      <td>antioxydant juice</td>\n",
       "      <td>frozen smoothie</td>\n",
       "      <td>spinach</td>\n",
       "      <td>olive oil</td>\n",
       "    </tr>\n",
       "    <tr>\n",
       "      <th>1</th>\n",
       "      <td>burgers</td>\n",
       "      <td>meatballs</td>\n",
       "      <td>eggs</td>\n",
       "      <td>NaN</td>\n",
       "      <td>NaN</td>\n",
       "      <td>NaN</td>\n",
       "      <td>NaN</td>\n",
       "      <td>NaN</td>\n",
       "      <td>NaN</td>\n",
       "      <td>NaN</td>\n",
       "      <td>NaN</td>\n",
       "      <td>NaN</td>\n",
       "      <td>NaN</td>\n",
       "      <td>NaN</td>\n",
       "      <td>NaN</td>\n",
       "      <td>NaN</td>\n",
       "      <td>NaN</td>\n",
       "      <td>NaN</td>\n",
       "      <td>NaN</td>\n",
       "      <td>NaN</td>\n",
       "    </tr>\n",
       "    <tr>\n",
       "      <th>2</th>\n",
       "      <td>chutney</td>\n",
       "      <td>NaN</td>\n",
       "      <td>NaN</td>\n",
       "      <td>NaN</td>\n",
       "      <td>NaN</td>\n",
       "      <td>NaN</td>\n",
       "      <td>NaN</td>\n",
       "      <td>NaN</td>\n",
       "      <td>NaN</td>\n",
       "      <td>NaN</td>\n",
       "      <td>NaN</td>\n",
       "      <td>NaN</td>\n",
       "      <td>NaN</td>\n",
       "      <td>NaN</td>\n",
       "      <td>NaN</td>\n",
       "      <td>NaN</td>\n",
       "      <td>NaN</td>\n",
       "      <td>NaN</td>\n",
       "      <td>NaN</td>\n",
       "      <td>NaN</td>\n",
       "    </tr>\n",
       "    <tr>\n",
       "      <th>3</th>\n",
       "      <td>turkey</td>\n",
       "      <td>avocado</td>\n",
       "      <td>NaN</td>\n",
       "      <td>NaN</td>\n",
       "      <td>NaN</td>\n",
       "      <td>NaN</td>\n",
       "      <td>NaN</td>\n",
       "      <td>NaN</td>\n",
       "      <td>NaN</td>\n",
       "      <td>NaN</td>\n",
       "      <td>NaN</td>\n",
       "      <td>NaN</td>\n",
       "      <td>NaN</td>\n",
       "      <td>NaN</td>\n",
       "      <td>NaN</td>\n",
       "      <td>NaN</td>\n",
       "      <td>NaN</td>\n",
       "      <td>NaN</td>\n",
       "      <td>NaN</td>\n",
       "      <td>NaN</td>\n",
       "    </tr>\n",
       "    <tr>\n",
       "      <th>4</th>\n",
       "      <td>mineral water</td>\n",
       "      <td>milk</td>\n",
       "      <td>energy bar</td>\n",
       "      <td>whole wheat rice</td>\n",
       "      <td>green tea</td>\n",
       "      <td>NaN</td>\n",
       "      <td>NaN</td>\n",
       "      <td>NaN</td>\n",
       "      <td>NaN</td>\n",
       "      <td>NaN</td>\n",
       "      <td>NaN</td>\n",
       "      <td>NaN</td>\n",
       "      <td>NaN</td>\n",
       "      <td>NaN</td>\n",
       "      <td>NaN</td>\n",
       "      <td>NaN</td>\n",
       "      <td>NaN</td>\n",
       "      <td>NaN</td>\n",
       "      <td>NaN</td>\n",
       "      <td>NaN</td>\n",
       "    </tr>\n",
       "  </tbody>\n",
       "</table>\n",
       "</div>"
      ],
      "text/plain": [
       "              0          1           2                 3             4   \\\n",
       "0         shrimp    almonds     avocado    vegetables mix  green grapes   \n",
       "1        burgers  meatballs        eggs               NaN           NaN   \n",
       "2        chutney        NaN         NaN               NaN           NaN   \n",
       "3         turkey    avocado         NaN               NaN           NaN   \n",
       "4  mineral water       milk  energy bar  whole wheat rice     green tea   \n",
       "\n",
       "                 5     6               7             8             9   \\\n",
       "0  whole weat flour  yams  cottage cheese  energy drink  tomato juice   \n",
       "1               NaN   NaN             NaN           NaN           NaN   \n",
       "2               NaN   NaN             NaN           NaN           NaN   \n",
       "3               NaN   NaN             NaN           NaN           NaN   \n",
       "4               NaN   NaN             NaN           NaN           NaN   \n",
       "\n",
       "               10         11     12     13             14      15  \\\n",
       "0  low fat yogurt  green tea  honey  salad  mineral water  salmon   \n",
       "1             NaN        NaN    NaN    NaN            NaN     NaN   \n",
       "2             NaN        NaN    NaN    NaN            NaN     NaN   \n",
       "3             NaN        NaN    NaN    NaN            NaN     NaN   \n",
       "4             NaN        NaN    NaN    NaN            NaN     NaN   \n",
       "\n",
       "                  16               17       18         19  \n",
       "0  antioxydant juice  frozen smoothie  spinach  olive oil  \n",
       "1                NaN              NaN      NaN        NaN  \n",
       "2                NaN              NaN      NaN        NaN  \n",
       "3                NaN              NaN      NaN        NaN  \n",
       "4                NaN              NaN      NaN        NaN  "
      ]
     },
     "execution_count": 34,
     "metadata": {},
     "output_type": "execute_result"
    }
   ],
   "source": [
    "df.head()"
   ]
  },
  {
   "cell_type": "code",
   "execution_count": 6,
   "id": "f82cf4ca-00d3-4c70-abd2-3167eeeb4b4c",
   "metadata": {},
   "outputs": [
    {
     "name": "stdout",
     "output_type": "stream",
     "text": [
      "Defaulting to user installation because normal site-packages is not writeable\n",
      "Requirement already satisfied: apyori in c:\\users\\admin\\appdata\\roaming\\python\\python311\\site-packages (1.1.2)\n"
     ]
    }
   ],
   "source": [
    "# !pip install apyori"
   ]
  },
  {
   "cell_type": "code",
   "execution_count": 35,
   "id": "ef81a806-04ec-4b1a-b95b-d6e46237d309",
   "metadata": {},
   "outputs": [],
   "source": [
    "from apyori import apriori ## association rule mining"
   ]
  },
  {
   "cell_type": "code",
   "execution_count": 36,
   "id": "076b0949-cea2-4ee6-9661-3d2d43c1c55f",
   "metadata": {},
   "outputs": [
    {
     "name": "stdout",
     "output_type": "stream",
     "text": [
      "<class 'pandas.core.frame.DataFrame'>\n",
      "RangeIndex: 7501 entries, 0 to 7500\n",
      "Data columns (total 20 columns):\n",
      " #   Column  Non-Null Count  Dtype \n",
      "---  ------  --------------  ----- \n",
      " 0   0       7501 non-null   object\n",
      " 1   1       5747 non-null   object\n",
      " 2   2       4389 non-null   object\n",
      " 3   3       3345 non-null   object\n",
      " 4   4       2529 non-null   object\n",
      " 5   5       1864 non-null   object\n",
      " 6   6       1369 non-null   object\n",
      " 7   7       981 non-null    object\n",
      " 8   8       654 non-null    object\n",
      " 9   9       395 non-null    object\n",
      " 10  10      256 non-null    object\n",
      " 11  11      154 non-null    object\n",
      " 12  12      87 non-null     object\n",
      " 13  13      47 non-null     object\n",
      " 14  14      25 non-null     object\n",
      " 15  15      8 non-null      object\n",
      " 16  16      4 non-null      object\n",
      " 17  17      4 non-null      object\n",
      " 18  18      3 non-null      object\n",
      " 19  19      1 non-null      object\n",
      "dtypes: object(20)\n",
      "memory usage: 1.1+ MB\n"
     ]
    }
   ],
   "source": [
    "df.info()"
   ]
  },
  {
   "cell_type": "code",
   "execution_count": 37,
   "id": "1f6f4eaa-6c98-4e34-a628-486221a11523",
   "metadata": {},
   "outputs": [],
   "source": [
    "## Filling the null values by 0\n",
    "df.fillna(0,inplace=True)"
   ]
  },
  {
   "cell_type": "code",
   "execution_count": 38,
   "id": "7561557a-5f7b-460c-af96-8d9c09ef216d",
   "metadata": {},
   "outputs": [
    {
     "data": {
      "text/html": [
       "<div>\n",
       "<style scoped>\n",
       "    .dataframe tbody tr th:only-of-type {\n",
       "        vertical-align: middle;\n",
       "    }\n",
       "\n",
       "    .dataframe tbody tr th {\n",
       "        vertical-align: top;\n",
       "    }\n",
       "\n",
       "    .dataframe thead th {\n",
       "        text-align: right;\n",
       "    }\n",
       "</style>\n",
       "<table border=\"1\" class=\"dataframe\">\n",
       "  <thead>\n",
       "    <tr style=\"text-align: right;\">\n",
       "      <th></th>\n",
       "      <th>0</th>\n",
       "      <th>1</th>\n",
       "      <th>2</th>\n",
       "      <th>3</th>\n",
       "      <th>4</th>\n",
       "      <th>5</th>\n",
       "      <th>6</th>\n",
       "      <th>7</th>\n",
       "      <th>8</th>\n",
       "      <th>9</th>\n",
       "      <th>10</th>\n",
       "      <th>11</th>\n",
       "      <th>12</th>\n",
       "      <th>13</th>\n",
       "      <th>14</th>\n",
       "      <th>15</th>\n",
       "      <th>16</th>\n",
       "      <th>17</th>\n",
       "      <th>18</th>\n",
       "      <th>19</th>\n",
       "    </tr>\n",
       "  </thead>\n",
       "  <tbody>\n",
       "    <tr>\n",
       "      <th>0</th>\n",
       "      <td>shrimp</td>\n",
       "      <td>almonds</td>\n",
       "      <td>avocado</td>\n",
       "      <td>vegetables mix</td>\n",
       "      <td>green grapes</td>\n",
       "      <td>whole weat flour</td>\n",
       "      <td>yams</td>\n",
       "      <td>cottage cheese</td>\n",
       "      <td>energy drink</td>\n",
       "      <td>tomato juice</td>\n",
       "      <td>low fat yogurt</td>\n",
       "      <td>green tea</td>\n",
       "      <td>honey</td>\n",
       "      <td>salad</td>\n",
       "      <td>mineral water</td>\n",
       "      <td>salmon</td>\n",
       "      <td>antioxydant juice</td>\n",
       "      <td>frozen smoothie</td>\n",
       "      <td>spinach</td>\n",
       "      <td>olive oil</td>\n",
       "    </tr>\n",
       "    <tr>\n",
       "      <th>1</th>\n",
       "      <td>burgers</td>\n",
       "      <td>meatballs</td>\n",
       "      <td>eggs</td>\n",
       "      <td>0</td>\n",
       "      <td>0</td>\n",
       "      <td>0</td>\n",
       "      <td>0</td>\n",
       "      <td>0</td>\n",
       "      <td>0</td>\n",
       "      <td>0</td>\n",
       "      <td>0</td>\n",
       "      <td>0</td>\n",
       "      <td>0</td>\n",
       "      <td>0</td>\n",
       "      <td>0</td>\n",
       "      <td>0</td>\n",
       "      <td>0</td>\n",
       "      <td>0</td>\n",
       "      <td>0</td>\n",
       "      <td>0</td>\n",
       "    </tr>\n",
       "    <tr>\n",
       "      <th>2</th>\n",
       "      <td>chutney</td>\n",
       "      <td>0</td>\n",
       "      <td>0</td>\n",
       "      <td>0</td>\n",
       "      <td>0</td>\n",
       "      <td>0</td>\n",
       "      <td>0</td>\n",
       "      <td>0</td>\n",
       "      <td>0</td>\n",
       "      <td>0</td>\n",
       "      <td>0</td>\n",
       "      <td>0</td>\n",
       "      <td>0</td>\n",
       "      <td>0</td>\n",
       "      <td>0</td>\n",
       "      <td>0</td>\n",
       "      <td>0</td>\n",
       "      <td>0</td>\n",
       "      <td>0</td>\n",
       "      <td>0</td>\n",
       "    </tr>\n",
       "    <tr>\n",
       "      <th>3</th>\n",
       "      <td>turkey</td>\n",
       "      <td>avocado</td>\n",
       "      <td>0</td>\n",
       "      <td>0</td>\n",
       "      <td>0</td>\n",
       "      <td>0</td>\n",
       "      <td>0</td>\n",
       "      <td>0</td>\n",
       "      <td>0</td>\n",
       "      <td>0</td>\n",
       "      <td>0</td>\n",
       "      <td>0</td>\n",
       "      <td>0</td>\n",
       "      <td>0</td>\n",
       "      <td>0</td>\n",
       "      <td>0</td>\n",
       "      <td>0</td>\n",
       "      <td>0</td>\n",
       "      <td>0</td>\n",
       "      <td>0</td>\n",
       "    </tr>\n",
       "    <tr>\n",
       "      <th>4</th>\n",
       "      <td>mineral water</td>\n",
       "      <td>milk</td>\n",
       "      <td>energy bar</td>\n",
       "      <td>whole wheat rice</td>\n",
       "      <td>green tea</td>\n",
       "      <td>0</td>\n",
       "      <td>0</td>\n",
       "      <td>0</td>\n",
       "      <td>0</td>\n",
       "      <td>0</td>\n",
       "      <td>0</td>\n",
       "      <td>0</td>\n",
       "      <td>0</td>\n",
       "      <td>0</td>\n",
       "      <td>0</td>\n",
       "      <td>0</td>\n",
       "      <td>0</td>\n",
       "      <td>0</td>\n",
       "      <td>0</td>\n",
       "      <td>0</td>\n",
       "    </tr>\n",
       "  </tbody>\n",
       "</table>\n",
       "</div>"
      ],
      "text/plain": [
       "              0          1           2                 3             4   \\\n",
       "0         shrimp    almonds     avocado    vegetables mix  green grapes   \n",
       "1        burgers  meatballs        eggs                 0             0   \n",
       "2        chutney          0           0                 0             0   \n",
       "3         turkey    avocado           0                 0             0   \n",
       "4  mineral water       milk  energy bar  whole wheat rice     green tea   \n",
       "\n",
       "                 5     6               7             8             9   \\\n",
       "0  whole weat flour  yams  cottage cheese  energy drink  tomato juice   \n",
       "1                 0     0               0             0             0   \n",
       "2                 0     0               0             0             0   \n",
       "3                 0     0               0             0             0   \n",
       "4                 0     0               0             0             0   \n",
       "\n",
       "               10         11     12     13             14      15  \\\n",
       "0  low fat yogurt  green tea  honey  salad  mineral water  salmon   \n",
       "1               0          0      0      0              0       0   \n",
       "2               0          0      0      0              0       0   \n",
       "3               0          0      0      0              0       0   \n",
       "4               0          0      0      0              0       0   \n",
       "\n",
       "                  16               17       18         19  \n",
       "0  antioxydant juice  frozen smoothie  spinach  olive oil  \n",
       "1                  0                0        0          0  \n",
       "2                  0                0        0          0  \n",
       "3                  0                0        0          0  \n",
       "4                  0                0        0          0  "
      ]
     },
     "execution_count": 38,
     "metadata": {},
     "output_type": "execute_result"
    }
   ],
   "source": [
    "df.head()"
   ]
  },
  {
   "cell_type": "code",
   "execution_count": 39,
   "id": "1910b22c-fec7-4090-904f-db6d88bdcaa4",
   "metadata": {},
   "outputs": [
    {
     "data": {
      "text/plain": [
       "(7501, 20)"
      ]
     },
     "execution_count": 39,
     "metadata": {},
     "output_type": "execute_result"
    }
   ],
   "source": [
    "df.shape"
   ]
  },
  {
   "cell_type": "code",
   "execution_count": 40,
   "id": "656037d7-ea3f-40f8-a8c7-fac28bac3da4",
   "metadata": {},
   "outputs": [
    {
     "data": {
      "text/plain": [
       "array(['red wine', 'shrimp', 'pasta', 'pepper', 'eggs', 'chocolate',\n",
       "       'shampoo', 0, 0, 0, 0, 0, 0, 0, 0, 0, 0, 0, 0, 0], dtype=object)"
      ]
     },
     "execution_count": 40,
     "metadata": {},
     "output_type": "execute_result"
    }
   ],
   "source": [
    "df.values[20]"
   ]
  },
  {
   "cell_type": "code",
   "execution_count": 41,
   "id": "3d37ada4-e052-4edd-a541-6aaab805fc1a",
   "metadata": {},
   "outputs": [
    {
     "data": {
      "text/plain": [
       "array([['shrimp', 'almonds', 'avocado', ..., 'frozen smoothie',\n",
       "        'spinach', 'olive oil'],\n",
       "       ['burgers', 'meatballs', 'eggs', ..., 0, 0, 0],\n",
       "       ['chutney', 0, 0, ..., 0, 0, 0],\n",
       "       ...,\n",
       "       ['chicken', 0, 0, ..., 0, 0, 0],\n",
       "       ['escalope', 'green tea', 0, ..., 0, 0, 0],\n",
       "       ['eggs', 'frozen smoothie', 'yogurt cake', ..., 0, 0, 0]],\n",
       "      dtype=object)"
      ]
     },
     "execution_count": 41,
     "metadata": {},
     "output_type": "execute_result"
    }
   ],
   "source": [
    "df.values"
   ]
  },
  {
   "cell_type": "code",
   "execution_count": 42,
   "id": "14d07217-d547-4d52-9a3e-1b25311f684a",
   "metadata": {},
   "outputs": [],
   "source": [
    "# [[trans1],[trans2],[trans3],[]]"
   ]
  },
  {
   "cell_type": "code",
   "execution_count": 43,
   "id": "c7a74e60-3e90-40e0-a38b-3fd1fc358c2f",
   "metadata": {},
   "outputs": [],
   "source": [
    "transactions=[]\n",
    "for i in range(0,7501):\n",
    "    transactions.append([str(df.values[i,j]) for j in range(0,20)])"
   ]
  },
  {
   "cell_type": "code",
   "execution_count": 44,
   "id": "c592a422-0903-47ee-80cb-a6507fd6130b",
   "metadata": {
    "scrolled": true
   },
   "outputs": [],
   "source": [
    "# transactions"
   ]
  },
  {
   "cell_type": "code",
   "execution_count": 45,
   "id": "0e0b15c5-1f30-437e-8854-3f62875aed1f",
   "metadata": {},
   "outputs": [],
   "source": [
    "transactions=np.array(transactions)"
   ]
  },
  {
   "cell_type": "code",
   "execution_count": 46,
   "id": "46bfba53-6972-428a-be6b-216f0c606fab",
   "metadata": {},
   "outputs": [
    {
     "data": {
      "text/plain": [
       "array(['red wine', 'shrimp', 'pasta', 'pepper', 'eggs', 'chocolate',\n",
       "       'shampoo', '0', '0', '0', '0', '0', '0', '0', '0', '0', '0', '0',\n",
       "       '0', '0'], dtype='<U20')"
      ]
     },
     "execution_count": 46,
     "metadata": {},
     "output_type": "execute_result"
    }
   ],
   "source": [
    "transactions[20]"
   ]
  },
  {
   "cell_type": "code",
   "execution_count": 47,
   "id": "98174ad7-0159-4eb6-924a-fd2b2f174413",
   "metadata": {},
   "outputs": [],
   "source": [
    "rules=apriori(transactions,min_support=0.003,min_confidence=0.2,min_lift=3,\\\n",
    "              min_length=2)"
   ]
  },
  {
   "cell_type": "code",
   "execution_count": 48,
   "id": "024a3fd9-7153-49ef-bd2b-2625cf54b4ff",
   "metadata": {},
   "outputs": [
    {
     "name": "stdout",
     "output_type": "stream",
     "text": [
      "<generator object apriori at 0x000002DF024A90C0>\n"
     ]
    }
   ],
   "source": [
    "print(rules)"
   ]
  },
  {
   "cell_type": "code",
   "execution_count": 49,
   "id": "9a42cf63-55c8-4851-9e4f-cbcc3f8a1f2f",
   "metadata": {},
   "outputs": [
    {
     "name": "stdout",
     "output_type": "stream",
     "text": [
      "[RelationRecord(items=frozenset({'chicken', 'light cream'}), support=0.004532728969470737, ordered_statistics=[OrderedStatistic(items_base=frozenset({'light cream'}), items_add=frozenset({'chicken'}), confidence=0.29059829059829057, lift=4.84395061728395)]), RelationRecord(items=frozenset({'mushroom cream sauce', 'escalope'}), support=0.005732568990801226, ordered_statistics=[OrderedStatistic(items_base=frozenset({'mushroom cream sauce'}), items_add=frozenset({'escalope'}), confidence=0.3006993006993007, lift=3.790832696715049)]), RelationRecord(items=frozenset({'pasta', 'escalope'}), support=0.005865884548726837, ordered_statistics=[OrderedStatistic(items_base=frozenset({'pasta'}), items_add=frozenset({'escalope'}), confidence=0.3728813559322034, lift=4.700811850163794)]), RelationRecord(items=frozenset({'honey', 'fromage blanc'}), support=0.003332888948140248, ordered_statistics=[OrderedStatistic(items_base=frozenset({'fromage blanc'}), items_add=frozenset({'honey'}), confidence=0.2450980392156863, lift=5.164270764485569)]), RelationRecord(items=frozenset({'herb & pepper', 'ground beef'}), support=0.015997866951073192, ordered_statistics=[OrderedStatistic(items_base=frozenset({'herb & pepper'}), items_add=frozenset({'ground beef'}), confidence=0.3234501347708895, lift=3.2919938411349285)]), RelationRecord(items=frozenset({'ground beef', 'tomato sauce'}), support=0.005332622317024397, ordered_statistics=[OrderedStatistic(items_base=frozenset({'tomato sauce'}), items_add=frozenset({'ground beef'}), confidence=0.3773584905660377, lift=3.840659481324083)]), RelationRecord(items=frozenset({'light cream', 'olive oil'}), support=0.003199573390214638, ordered_statistics=[OrderedStatistic(items_base=frozenset({'light cream'}), items_add=frozenset({'olive oil'}), confidence=0.20512820512820515, lift=3.1147098515519573)]), RelationRecord(items=frozenset({'whole wheat pasta', 'olive oil'}), support=0.007998933475536596, ordered_statistics=[OrderedStatistic(items_base=frozenset({'whole wheat pasta'}), items_add=frozenset({'olive oil'}), confidence=0.2714932126696833, lift=4.122410097642296)]), RelationRecord(items=frozenset({'shrimp', 'pasta'}), support=0.005065991201173177, ordered_statistics=[OrderedStatistic(items_base=frozenset({'pasta'}), items_add=frozenset({'shrimp'}), confidence=0.3220338983050847, lift=4.506672147735896)]), RelationRecord(items=frozenset({'chicken', 'light cream', '0'}), support=0.004532728969470737, ordered_statistics=[OrderedStatistic(items_base=frozenset({'light cream'}), items_add=frozenset({'chicken', '0'}), confidence=0.29059829059829057, lift=4.84395061728395), OrderedStatistic(items_base=frozenset({'light cream', '0'}), items_add=frozenset({'chicken'}), confidence=0.29059829059829057, lift=4.84395061728395)]), RelationRecord(items=frozenset({'mushroom cream sauce', '0', 'escalope'}), support=0.005732568990801226, ordered_statistics=[OrderedStatistic(items_base=frozenset({'mushroom cream sauce'}), items_add=frozenset({'0', 'escalope'}), confidence=0.3006993006993007, lift=3.790832696715049), OrderedStatistic(items_base=frozenset({'mushroom cream sauce', '0'}), items_add=frozenset({'escalope'}), confidence=0.3006993006993007, lift=3.790832696715049)]), RelationRecord(items=frozenset({'pasta', '0', 'escalope'}), support=0.005865884548726837, ordered_statistics=[OrderedStatistic(items_base=frozenset({'pasta'}), items_add=frozenset({'0', 'escalope'}), confidence=0.3728813559322034, lift=4.700811850163794), OrderedStatistic(items_base=frozenset({'0', 'pasta'}), items_add=frozenset({'escalope'}), confidence=0.3728813559322034, lift=4.700811850163794)]), RelationRecord(items=frozenset({'honey', '0', 'fromage blanc'}), support=0.003332888948140248, ordered_statistics=[OrderedStatistic(items_base=frozenset({'fromage blanc'}), items_add=frozenset({'honey', '0'}), confidence=0.2450980392156863, lift=5.1788180060756694), OrderedStatistic(items_base=frozenset({'0', 'fromage blanc'}), items_add=frozenset({'honey'}), confidence=0.2450980392156863, lift=5.164270764485569)]), RelationRecord(items=frozenset({'herb & pepper', 'ground beef', '0'}), support=0.015997866951073192, ordered_statistics=[OrderedStatistic(items_base=frozenset({'herb & pepper'}), items_add=frozenset({'ground beef', '0'}), confidence=0.3234501347708895, lift=3.2919938411349285), OrderedStatistic(items_base=frozenset({'herb & pepper', '0'}), items_add=frozenset({'ground beef'}), confidence=0.3234501347708895, lift=3.2919938411349285)]), RelationRecord(items=frozenset({'ground beef', 'tomato sauce', '0'}), support=0.005332622317024397, ordered_statistics=[OrderedStatistic(items_base=frozenset({'tomato sauce'}), items_add=frozenset({'ground beef', '0'}), confidence=0.3773584905660377, lift=3.840659481324083), OrderedStatistic(items_base=frozenset({'tomato sauce', '0'}), items_add=frozenset({'ground beef'}), confidence=0.3773584905660377, lift=3.840659481324083)]), RelationRecord(items=frozenset({'light cream', '0', 'olive oil'}), support=0.003199573390214638, ordered_statistics=[OrderedStatistic(items_base=frozenset({'light cream'}), items_add=frozenset({'olive oil', '0'}), confidence=0.20512820512820515, lift=3.121027721433401), OrderedStatistic(items_base=frozenset({'light cream', '0'}), items_add=frozenset({'olive oil'}), confidence=0.20512820512820515, lift=3.1147098515519573)]), RelationRecord(items=frozenset({'whole wheat pasta', 'olive oil', '0'}), support=0.007998933475536596, ordered_statistics=[OrderedStatistic(items_base=frozenset({'whole wheat pasta'}), items_add=frozenset({'olive oil', '0'}), confidence=0.2714932126696833, lift=4.13077198425009), OrderedStatistic(items_base=frozenset({'whole wheat pasta', '0'}), items_add=frozenset({'olive oil'}), confidence=0.2714932126696833, lift=4.122410097642296)]), RelationRecord(items=frozenset({'shrimp', '0', 'pasta'}), support=0.005065991201173177, ordered_statistics=[OrderedStatistic(items_base=frozenset({'pasta'}), items_add=frozenset({'shrimp', '0'}), confidence=0.3220338983050847, lift=4.515095833993347), OrderedStatistic(items_base=frozenset({'0', 'pasta'}), items_add=frozenset({'shrimp'}), confidence=0.3220338983050847, lift=4.506672147735896)]), RelationRecord(items=frozenset({'milk', 'spaghetti', 'avocado'}), support=0.003332888948140248, ordered_statistics=[OrderedStatistic(items_base=frozenset({'spaghetti', 'avocado'}), items_add=frozenset({'milk'}), confidence=0.41666666666666663, lift=3.215449245541838)]), RelationRecord(items=frozenset({'milk', 'burgers', 'cake'}), support=0.0037328356219170776, ordered_statistics=[OrderedStatistic(items_base=frozenset({'milk', 'cake'}), items_add=frozenset({'burgers'}), confidence=0.27999999999999997, lift=3.211437308868501)]), RelationRecord(items=frozenset({'burgers', 'turkey', 'chocolate'}), support=0.0030662578322890282, ordered_statistics=[OrderedStatistic(items_base=frozenset({'turkey', 'chocolate'}), items_add=frozenset({'burgers'}), confidence=0.27058823529411763, lift=3.1034898363014927)]), RelationRecord(items=frozenset({'burgers', 'turkey', 'milk'}), support=0.003199573390214638, ordered_statistics=[OrderedStatistic(items_base=frozenset({'turkey', 'milk'}), items_add=frozenset({'burgers'}), confidence=0.2823529411764706, lift=3.2384241770102533)]), RelationRecord(items=frozenset({'tomatoes', 'frozen vegetables', 'cake'}), support=0.0030662578322890282, ordered_statistics=[OrderedStatistic(items_base=frozenset({'frozen vegetables', 'cake'}), items_add=frozenset({'tomatoes'}), confidence=0.2987012987012987, lift=4.367560314928736), OrderedStatistic(items_base=frozenset({'tomatoes', 'cake'}), items_add=frozenset({'frozen vegetables'}), confidence=0.36507936507936506, lift=3.8300144300144296)]), RelationRecord(items=frozenset({'ground beef', 'cereals', 'spaghetti'}), support=0.0030662578322890282, ordered_statistics=[OrderedStatistic(items_base=frozenset({'ground beef', 'cereals'}), items_add=frozenset({'spaghetti'}), confidence=0.6764705882352942, lift=3.8853031258445188), OrderedStatistic(items_base=frozenset({'cereals', 'spaghetti'}), items_add=frozenset({'ground beef'}), confidence=0.45999999999999996, lift=4.681763907734057)]), RelationRecord(items=frozenset({'chicken', 'ground beef', 'milk'}), support=0.0038661511798426876, ordered_statistics=[OrderedStatistic(items_base=frozenset({'chicken', 'ground beef'}), items_add=frozenset({'milk'}), confidence=0.40845070422535207, lift=3.152046020981858)]), RelationRecord(items=frozenset({'chicken', 'olive oil', 'milk'}), support=0.0035995200639914677, ordered_statistics=[OrderedStatistic(items_base=frozenset({'chicken', 'milk'}), items_add=frozenset({'olive oil'}), confidence=0.24324324324324323, lift=3.693456614509246), OrderedStatistic(items_base=frozenset({'chicken', 'olive oil'}), items_add=frozenset({'milk'}), confidence=0.5, lift=3.858539094650206), OrderedStatistic(items_base=frozenset({'olive oil', 'milk'}), items_add=frozenset({'chicken'}), confidence=0.2109375, lift=3.51609375)]), RelationRecord(items=frozenset({'chicken', 'olive oil', 'spaghetti'}), support=0.0034662045060658577, ordered_statistics=[OrderedStatistic(items_base=frozenset({'chicken', 'spaghetti'}), items_add=frozenset({'olive oil'}), confidence=0.20155038759689922, lift=3.0603835169318647)]), RelationRecord(items=frozenset({'shrimp', 'frozen vegetables', 'chocolate'}), support=0.005332622317024397, ordered_statistics=[OrderedStatistic(items_base=frozenset({'frozen vegetables', 'chocolate'}), items_add=frozenset({'shrimp'}), confidence=0.23255813953488375, lift=3.2545123221103784), OrderedStatistic(items_base=frozenset({'shrimp', 'chocolate'}), items_add=frozenset({'frozen vegetables'}), confidence=0.29629629629629634, lift=3.1084175084175087)]), RelationRecord(items=frozenset({'herb & pepper', 'ground beef', 'chocolate'}), support=0.003999466737768298, ordered_statistics=[OrderedStatistic(items_base=frozenset({'herb & pepper', 'chocolate'}), items_add=frozenset({'ground beef'}), confidence=0.4411764705882354, lift=4.4901827759597746)]), RelationRecord(items=frozenset({'milk', 'soup', 'chocolate'}), support=0.003999466737768298, ordered_statistics=[OrderedStatistic(items_base=frozenset({'soup', 'chocolate'}), items_add=frozenset({'milk'}), confidence=0.3947368421052632, lift=3.0462150747238472)]), RelationRecord(items=frozenset({'cooking oil', 'ground beef', 'spaghetti'}), support=0.004799360085321957, ordered_statistics=[OrderedStatistic(items_base=frozenset({'cooking oil', 'ground beef'}), items_add=frozenset({'spaghetti'}), confidence=0.5714285714285714, lift=3.2819951870487856), OrderedStatistic(items_base=frozenset({'cooking oil', 'spaghetti'}), items_add=frozenset({'ground beef'}), confidence=0.3025210084033613, lift=3.0789824749438446)]), RelationRecord(items=frozenset({'herb & pepper', 'ground beef', 'eggs'}), support=0.0041327822956939075, ordered_statistics=[OrderedStatistic(items_base=frozenset({'ground beef', 'eggs'}), items_add=frozenset({'herb & pepper'}), confidence=0.2066666666666667, lift=4.178454627133872), OrderedStatistic(items_base=frozenset({'herb & pepper', 'eggs'}), items_add=frozenset({'ground beef'}), confidence=0.3297872340425532, lift=3.3564912381997174)]), RelationRecord(items=frozenset({'spaghetti', 'red wine', 'eggs'}), support=0.0037328356219170776, ordered_statistics=[OrderedStatistic(items_base=frozenset({'red wine', 'eggs'}), items_add=frozenset({'spaghetti'}), confidence=0.5283018867924528, lift=3.0342974370828397)]), RelationRecord(items=frozenset({'herb & pepper', 'ground beef', 'french fries'}), support=0.003199573390214638, ordered_statistics=[OrderedStatistic(items_base=frozenset({'ground beef', 'french fries'}), items_add=frozenset({'herb & pepper'}), confidence=0.23076923076923078, lift=4.665768194070081), OrderedStatistic(items_base=frozenset({'herb & pepper', 'french fries'}), items_add=frozenset({'ground beef'}), confidence=0.46153846153846156, lift=4.697421981004071)]), RelationRecord(items=frozenset({'green tea', 'tomatoes', 'frozen vegetables'}), support=0.003332888948140248, ordered_statistics=[OrderedStatistic(items_base=frozenset({'green tea', 'frozen vegetables'}), items_add=frozenset({'tomatoes'}), confidence=0.2314814814814815, lift=3.38468341635983)]), RelationRecord(items=frozenset({'ground beef', 'spaghetti', 'frozen vegetables'}), support=0.008665511265164644, ordered_statistics=[OrderedStatistic(items_base=frozenset({'spaghetti', 'frozen vegetables'}), items_add=frozenset({'ground beef'}), confidence=0.31100478468899523, lift=3.165328208890303)]), RelationRecord(items=frozenset({'olive oil', 'frozen vegetables', 'milk'}), support=0.004799360085321957, ordered_statistics=[OrderedStatistic(items_base=frozenset({'frozen vegetables', 'milk'}), items_add=frozenset({'olive oil'}), confidence=0.20338983050847456, lift=3.088314005352364), OrderedStatistic(items_base=frozenset({'olive oil', 'frozen vegetables'}), items_add=frozenset({'milk'}), confidence=0.4235294117647058, lift=3.2684095860566447)]), RelationRecord(items=frozenset({'soup', 'frozen vegetables', 'milk'}), support=0.003999466737768298, ordered_statistics=[OrderedStatistic(items_base=frozenset({'soup', 'frozen vegetables'}), items_add=frozenset({'milk'}), confidence=0.5, lift=3.858539094650206)]), RelationRecord(items=frozenset({'tomatoes', 'frozen vegetables', 'milk'}), support=0.0041327822956939075, ordered_statistics=[OrderedStatistic(items_base=frozenset({'tomatoes', 'milk'}), items_add=frozenset({'frozen vegetables'}), confidence=0.29523809523809524, lift=3.0973160173160172)]), RelationRecord(items=frozenset({'shrimp', 'frozen vegetables', 'mineral water'}), support=0.007199040127982935, ordered_statistics=[OrderedStatistic(items_base=frozenset({'shrimp', 'mineral water'}), items_add=frozenset({'frozen vegetables'}), confidence=0.30508474576271183, lift=3.200616332819722)]), RelationRecord(items=frozenset({'spaghetti', 'olive oil', 'frozen vegetables'}), support=0.005732568990801226, ordered_statistics=[OrderedStatistic(items_base=frozenset({'spaghetti', 'frozen vegetables'}), items_add=frozenset({'olive oil'}), confidence=0.20574162679425836, lift=3.1240241752707125)]), RelationRecord(items=frozenset({'shrimp', 'spaghetti', 'frozen vegetables'}), support=0.005999200106652446, ordered_statistics=[OrderedStatistic(items_base=frozenset({'spaghetti', 'frozen vegetables'}), items_add=frozenset({'shrimp'}), confidence=0.21531100478468898, lift=3.0131489680782684)]), RelationRecord(items=frozenset({'shrimp', 'tomatoes', 'frozen vegetables'}), support=0.003999466737768298, ordered_statistics=[OrderedStatistic(items_base=frozenset({'shrimp', 'frozen vegetables'}), items_add=frozenset({'tomatoes'}), confidence=0.24000000000000002, lift=3.5092397660818717), OrderedStatistic(items_base=frozenset({'tomatoes', 'frozen vegetables'}), items_add=frozenset({'shrimp'}), confidence=0.2479338842975207, lift=3.4696866905143704), OrderedStatistic(items_base=frozenset({'shrimp', 'tomatoes'}), items_add=frozenset({'frozen vegetables'}), confidence=0.35714285714285715, lift=3.7467532467532467)]), RelationRecord(items=frozenset({'tomatoes', 'spaghetti', 'frozen vegetables'}), support=0.006665777896280496, ordered_statistics=[OrderedStatistic(items_base=frozenset({'spaghetti', 'frozen vegetables'}), items_add=frozenset({'tomatoes'}), confidence=0.23923444976076558, lift=3.4980460188216425), OrderedStatistic(items_base=frozenset({'tomatoes', 'spaghetti'}), items_add=frozenset({'frozen vegetables'}), confidence=0.3184713375796179, lift=3.341053850607991)]), RelationRecord(items=frozenset({'ground beef', 'spaghetti', 'grated cheese'}), support=0.005332622317024397, ordered_statistics=[OrderedStatistic(items_base=frozenset({'spaghetti', 'grated cheese'}), items_add=frozenset({'ground beef'}), confidence=0.3225806451612903, lift=3.283144395325426)]), RelationRecord(items=frozenset({'tomatoes', 'green tea', 'ground beef'}), support=0.0030662578322890282, ordered_statistics=[OrderedStatistic(items_base=frozenset({'green tea', 'ground beef'}), items_add=frozenset({'tomatoes'}), confidence=0.2072072072072072, lift=3.0297490472929067)]), RelationRecord(items=frozenset({'herb & pepper', 'ground beef', 'milk'}), support=0.0035995200639914677, ordered_statistics=[OrderedStatistic(items_base=frozenset({'herb & pepper', 'milk'}), items_add=frozenset({'ground beef'}), confidence=0.3913043478260869, lift=3.9825968969382335)]), RelationRecord(items=frozenset({'herb & pepper', 'ground beef', 'mineral water'}), support=0.006665777896280496, ordered_statistics=[OrderedStatistic(items_base=frozenset({'herb & pepper', 'mineral water'}), items_add=frozenset({'ground beef'}), confidence=0.39062500000000006, lift=3.975682666214383)]), RelationRecord(items=frozenset({'herb & pepper', 'ground beef', 'spaghetti'}), support=0.006399146780429276, ordered_statistics=[OrderedStatistic(items_base=frozenset({'herb & pepper', 'spaghetti'}), items_add=frozenset({'ground beef'}), confidence=0.3934426229508197, lift=4.004359721511667)]), RelationRecord(items=frozenset({'ground beef', 'olive oil', 'milk'}), support=0.004932675643247567, ordered_statistics=[OrderedStatistic(items_base=frozenset({'ground beef', 'milk'}), items_add=frozenset({'olive oil'}), confidence=0.22424242424242427, lift=3.40494417862839)]), RelationRecord(items=frozenset({'ground beef', 'soup', 'milk'}), support=0.003999466737768298, ordered_statistics=[OrderedStatistic(items_base=frozenset({'ground beef', 'soup'}), items_add=frozenset({'milk'}), confidence=0.4109589041095891, lift=3.1714019956029094)]), RelationRecord(items=frozenset({'ground beef', 'spaghetti', 'pepper'}), support=0.003332888948140248, ordered_statistics=[OrderedStatistic(items_base=frozenset({'spaghetti', 'pepper'}), items_add=frozenset({'ground beef'}), confidence=0.33783783783783783, lift=3.4384282518610876)]), RelationRecord(items=frozenset({'shrimp', 'ground beef', 'spaghetti'}), support=0.005999200106652446, ordered_statistics=[OrderedStatistic(items_base=frozenset({'shrimp', 'ground beef'}), items_add=frozenset({'spaghetti'}), confidence=0.5232558139534884, lift=3.005315360233627)]), RelationRecord(items=frozenset({'ground beef', 'tomato sauce', 'spaghetti'}), support=0.0030662578322890282, ordered_statistics=[OrderedStatistic(items_base=frozenset({'tomato sauce'}), items_add=frozenset({'ground beef', 'spaghetti'}), confidence=0.2169811320754717, lift=5.535970992170453), OrderedStatistic(items_base=frozenset({'ground beef', 'tomato sauce'}), items_add=frozenset({'spaghetti'}), confidence=0.5750000000000001, lift=3.3025076569678413), OrderedStatistic(items_base=frozenset({'tomato sauce', 'spaghetti'}), items_add=frozenset({'ground beef'}), confidence=0.4893617021276596, lift=4.980599901844742)]), RelationRecord(items=frozenset({'light cream', 'spaghetti', 'mineral water'}), support=0.003199573390214638, ordered_statistics=[OrderedStatistic(items_base=frozenset({'light cream'}), items_add=frozenset({'spaghetti', 'mineral water'}), confidence=0.20512820512820515, lift=3.4345238095238098)]), RelationRecord(items=frozenset({'shrimp', 'olive oil', 'milk'}), support=0.003199573390214638, ordered_statistics=[OrderedStatistic(items_base=frozenset({'shrimp', 'olive oil'}), items_add=frozenset({'milk'}), confidence=0.3934426229508197, lift=3.0362274843149164)]), RelationRecord(items=frozenset({'olive oil', 'soup', 'milk'}), support=0.0035995200639914677, ordered_statistics=[OrderedStatistic(items_base=frozenset({'olive oil', 'milk'}), items_add=frozenset({'soup'}), confidence=0.2109375, lift=4.174781497361478), OrderedStatistic(items_base=frozenset({'soup', 'milk'}), items_add=frozenset({'olive oil'}), confidence=0.23684210526315788, lift=3.5962603878116344), OrderedStatistic(items_base=frozenset({'olive oil', 'soup'}), items_add=frozenset({'milk'}), confidence=0.4029850746268656, lift=3.1098673300165833)]), RelationRecord(items=frozenset({'olive oil', 'spaghetti', 'milk'}), support=0.007199040127982935, ordered_statistics=[OrderedStatistic(items_base=frozenset({'spaghetti', 'milk'}), items_add=frozenset({'olive oil'}), confidence=0.20300751879699247, lift=3.0825089038385434)]), RelationRecord(items=frozenset({'tomatoes', 'soup', 'milk'}), support=0.0030662578322890282, ordered_statistics=[OrderedStatistic(items_base=frozenset({'tomatoes', 'milk'}), items_add=frozenset({'soup'}), confidence=0.21904761904761905, lift=4.335293378565146), OrderedStatistic(items_base=frozenset({'tomatoes', 'soup'}), items_add=frozenset({'milk'}), confidence=0.44230769230769235, lift=3.4133230452674903)]), RelationRecord(items=frozenset({'whole wheat pasta', 'spaghetti', 'milk'}), support=0.003999466737768298, ordered_statistics=[OrderedStatistic(items_base=frozenset({'whole wheat pasta', 'spaghetti'}), items_add=frozenset({'milk'}), confidence=0.4545454545454546, lift=3.5077628133183696)]), RelationRecord(items=frozenset({'olive oil', 'soup', 'mineral water'}), support=0.005199306759098787, ordered_statistics=[OrderedStatistic(items_base=frozenset({'soup', 'mineral water'}), items_add=frozenset({'olive oil'}), confidence=0.22543352601156072, lift=3.4230301186492245)]), RelationRecord(items=frozenset({'whole wheat pasta', 'olive oil', 'mineral water'}), support=0.0038661511798426876, ordered_statistics=[OrderedStatistic(items_base=frozenset({'whole wheat pasta', 'mineral water'}), items_add=frozenset({'olive oil'}), confidence=0.4027777777777778, lift=6.115862573099416)]), RelationRecord(items=frozenset({'pancakes', 'olive oil', 'spaghetti'}), support=0.005065991201173177, ordered_statistics=[OrderedStatistic(items_base=frozenset({'pancakes', 'spaghetti'}), items_add=frozenset({'olive oil'}), confidence=0.20105820105820105, lift=3.0529100529100526)]), RelationRecord(items=frozenset({'tomatoes', 'olive oil', 'spaghetti'}), support=0.004399413411545127, ordered_statistics=[OrderedStatistic(items_base=frozenset({'tomatoes', 'olive oil'}), items_add=frozenset({'spaghetti'}), confidence=0.6111111111111112, lift=3.5099115194827295), OrderedStatistic(items_base=frozenset({'tomatoes', 'spaghetti'}), items_add=frozenset({'olive oil'}), confidence=0.21019108280254778, lift=3.19158565202816)]), RelationRecord(items=frozenset({'tomatoes', 'spaghetti', 'whole wheat rice'}), support=0.0030662578322890282, ordered_statistics=[OrderedStatistic(items_base=frozenset({'spaghetti', 'whole wheat rice'}), items_add=frozenset({'tomatoes'}), confidence=0.2169811320754717, lift=3.1726617382029496)]), RelationRecord(items=frozenset({'milk', 'spaghetti', '0', 'avocado'}), support=0.003332888948140248, ordered_statistics=[OrderedStatistic(items_base=frozenset({'spaghetti', 'avocado'}), items_add=frozenset({'0', 'milk'}), confidence=0.41666666666666663, lift=3.215449245541838), OrderedStatistic(items_base=frozenset({'spaghetti', '0', 'avocado'}), items_add=frozenset({'milk'}), confidence=0.41666666666666663, lift=3.215449245541838)]), RelationRecord(items=frozenset({'milk', 'burgers', '0', 'cake'}), support=0.0037328356219170776, ordered_statistics=[OrderedStatistic(items_base=frozenset({'milk', 'cake'}), items_add=frozenset({'burgers', '0'}), confidence=0.27999999999999997, lift=3.211437308868501), OrderedStatistic(items_base=frozenset({'milk', '0', 'cake'}), items_add=frozenset({'burgers'}), confidence=0.27999999999999997, lift=3.211437308868501)]), RelationRecord(items=frozenset({'burgers', '0', 'turkey', 'chocolate'}), support=0.0030662578322890282, ordered_statistics=[OrderedStatistic(items_base=frozenset({'turkey', 'chocolate'}), items_add=frozenset({'burgers', '0'}), confidence=0.27058823529411763, lift=3.1034898363014927), OrderedStatistic(items_base=frozenset({'0', 'turkey', 'chocolate'}), items_add=frozenset({'burgers'}), confidence=0.27058823529411763, lift=3.1034898363014927)]), RelationRecord(items=frozenset({'burgers', '0', 'turkey', 'milk'}), support=0.003199573390214638, ordered_statistics=[OrderedStatistic(items_base=frozenset({'turkey', 'milk'}), items_add=frozenset({'burgers', '0'}), confidence=0.2823529411764706, lift=3.2384241770102533), OrderedStatistic(items_base=frozenset({'0', 'turkey', 'milk'}), items_add=frozenset({'burgers'}), confidence=0.2823529411764706, lift=3.2384241770102533)]), RelationRecord(items=frozenset({'frozen vegetables', 'tomatoes', '0', 'cake'}), support=0.0030662578322890282, ordered_statistics=[OrderedStatistic(items_base=frozenset({'frozen vegetables', 'cake'}), items_add=frozenset({'tomatoes', '0'}), confidence=0.2987012987012987, lift=4.367560314928736), OrderedStatistic(items_base=frozenset({'tomatoes', 'cake'}), items_add=frozenset({'frozen vegetables', '0'}), confidence=0.36507936507936506, lift=3.8300144300144296), OrderedStatistic(items_base=frozenset({'frozen vegetables', '0', 'cake'}), items_add=frozenset({'tomatoes'}), confidence=0.2987012987012987, lift=4.367560314928736), OrderedStatistic(items_base=frozenset({'tomatoes', '0', 'cake'}), items_add=frozenset({'frozen vegetables'}), confidence=0.36507936507936506, lift=3.8300144300144296)]), RelationRecord(items=frozenset({'ground beef', 'spaghetti', 'cereals', '0'}), support=0.0030662578322890282, ordered_statistics=[OrderedStatistic(items_base=frozenset({'ground beef', 'cereals'}), items_add=frozenset({'spaghetti', '0'}), confidence=0.6764705882352942, lift=3.8853031258445188), OrderedStatistic(items_base=frozenset({'cereals', 'spaghetti'}), items_add=frozenset({'ground beef', '0'}), confidence=0.45999999999999996, lift=4.681763907734057), OrderedStatistic(items_base=frozenset({'ground beef', 'cereals', '0'}), items_add=frozenset({'spaghetti'}), confidence=0.6764705882352942, lift=3.8853031258445188), OrderedStatistic(items_base=frozenset({'spaghetti', 'cereals', '0'}), items_add=frozenset({'ground beef'}), confidence=0.45999999999999996, lift=4.681763907734057)]), RelationRecord(items=frozenset({'chicken', 'ground beef', '0', 'milk'}), support=0.0038661511798426876, ordered_statistics=[OrderedStatistic(items_base=frozenset({'chicken', 'ground beef'}), items_add=frozenset({'0', 'milk'}), confidence=0.40845070422535207, lift=3.152046020981858), OrderedStatistic(items_base=frozenset({'chicken', 'ground beef', '0'}), items_add=frozenset({'milk'}), confidence=0.40845070422535207, lift=3.152046020981858)]), RelationRecord(items=frozenset({'chicken', 'olive oil', '0', 'milk'}), support=0.0035995200639914677, ordered_statistics=[OrderedStatistic(items_base=frozenset({'chicken', 'milk'}), items_add=frozenset({'olive oil', '0'}), confidence=0.24324324324324323, lift=3.700948412915958), OrderedStatistic(items_base=frozenset({'chicken', 'olive oil'}), items_add=frozenset({'0', 'milk'}), confidence=0.5, lift=3.858539094650206), OrderedStatistic(items_base=frozenset({'olive oil', 'milk'}), items_add=frozenset({'chicken', '0'}), confidence=0.2109375, lift=3.51609375), OrderedStatistic(items_base=frozenset({'chicken', '0', 'milk'}), items_add=frozenset({'olive oil'}), confidence=0.24324324324324323, lift=3.693456614509246), OrderedStatistic(items_base=frozenset({'chicken', 'olive oil', '0'}), items_add=frozenset({'milk'}), confidence=0.5, lift=3.858539094650206), OrderedStatistic(items_base=frozenset({'olive oil', '0', 'milk'}), items_add=frozenset({'chicken'}), confidence=0.2109375, lift=3.51609375)]), RelationRecord(items=frozenset({'chicken', 'spaghetti', 'olive oil', '0'}), support=0.0034662045060658577, ordered_statistics=[OrderedStatistic(items_base=frozenset({'chicken', 'spaghetti'}), items_add=frozenset({'olive oil', '0'}), confidence=0.20155038759689922, lift=3.0665911914083996), OrderedStatistic(items_base=frozenset({'chicken', 'spaghetti', '0'}), items_add=frozenset({'olive oil'}), confidence=0.20155038759689922, lift=3.0603835169318647)]), RelationRecord(items=frozenset({'frozen vegetables', '0', 'shrimp', 'chocolate'}), support=0.005332622317024397, ordered_statistics=[OrderedStatistic(items_base=frozenset({'frozen vegetables', 'chocolate'}), items_add=frozenset({'shrimp', '0'}), confidence=0.23255813953488375, lift=3.260595522712454), OrderedStatistic(items_base=frozenset({'shrimp', 'chocolate'}), items_add=frozenset({'frozen vegetables', '0'}), confidence=0.29629629629629634, lift=3.1084175084175087), OrderedStatistic(items_base=frozenset({'frozen vegetables', '0', 'chocolate'}), items_add=frozenset({'shrimp'}), confidence=0.23255813953488375, lift=3.2545123221103784), OrderedStatistic(items_base=frozenset({'shrimp', '0', 'chocolate'}), items_add=frozenset({'frozen vegetables'}), confidence=0.29629629629629634, lift=3.1084175084175087)]), RelationRecord(items=frozenset({'herb & pepper', 'ground beef', '0', 'chocolate'}), support=0.003999466737768298, ordered_statistics=[OrderedStatistic(items_base=frozenset({'herb & pepper', 'chocolate'}), items_add=frozenset({'ground beef', '0'}), confidence=0.4411764705882354, lift=4.4901827759597746), OrderedStatistic(items_base=frozenset({'herb & pepper', '0', 'chocolate'}), items_add=frozenset({'ground beef'}), confidence=0.4411764705882354, lift=4.4901827759597746)]), RelationRecord(items=frozenset({'milk', 'soup', '0', 'chocolate'}), support=0.003999466737768298, ordered_statistics=[OrderedStatistic(items_base=frozenset({'soup', 'chocolate'}), items_add=frozenset({'0', 'milk'}), confidence=0.3947368421052632, lift=3.0462150747238472), OrderedStatistic(items_base=frozenset({'soup', '0', 'chocolate'}), items_add=frozenset({'milk'}), confidence=0.3947368421052632, lift=3.0462150747238472)]), RelationRecord(items=frozenset({'cooking oil', 'ground beef', 'spaghetti', '0'}), support=0.004799360085321957, ordered_statistics=[OrderedStatistic(items_base=frozenset({'cooking oil', 'ground beef'}), items_add=frozenset({'spaghetti', '0'}), confidence=0.5714285714285714, lift=3.2819951870487856), OrderedStatistic(items_base=frozenset({'cooking oil', 'spaghetti'}), items_add=frozenset({'ground beef', '0'}), confidence=0.3025210084033613, lift=3.0789824749438446), OrderedStatistic(items_base=frozenset({'cooking oil', 'ground beef', '0'}), items_add=frozenset({'spaghetti'}), confidence=0.5714285714285714, lift=3.2819951870487856), OrderedStatistic(items_base=frozenset({'cooking oil', 'spaghetti', '0'}), items_add=frozenset({'ground beef'}), confidence=0.3025210084033613, lift=3.0789824749438446)]), RelationRecord(items=frozenset({'herb & pepper', 'ground beef', '0', 'eggs'}), support=0.0041327822956939075, ordered_statistics=[OrderedStatistic(items_base=frozenset({'ground beef', 'eggs'}), items_add=frozenset({'herb & pepper', '0'}), confidence=0.2066666666666667, lift=4.178454627133872), OrderedStatistic(items_base=frozenset({'herb & pepper', 'eggs'}), items_add=frozenset({'ground beef', '0'}), confidence=0.3297872340425532, lift=3.3564912381997174), OrderedStatistic(items_base=frozenset({'ground beef', '0', 'eggs'}), items_add=frozenset({'herb & pepper'}), confidence=0.2066666666666667, lift=4.178454627133872), OrderedStatistic(items_base=frozenset({'herb & pepper', '0', 'eggs'}), items_add=frozenset({'ground beef'}), confidence=0.3297872340425532, lift=3.3564912381997174)]), RelationRecord(items=frozenset({'spaghetti', '0', 'red wine', 'eggs'}), support=0.0037328356219170776, ordered_statistics=[OrderedStatistic(items_base=frozenset({'red wine', 'eggs'}), items_add=frozenset({'spaghetti', '0'}), confidence=0.5283018867924528, lift=3.0342974370828397), OrderedStatistic(items_base=frozenset({'0', 'red wine', 'eggs'}), items_add=frozenset({'spaghetti'}), confidence=0.5283018867924528, lift=3.0342974370828397)]), RelationRecord(items=frozenset({'herb & pepper', 'ground beef', 'french fries', '0'}), support=0.003199573390214638, ordered_statistics=[OrderedStatistic(items_base=frozenset({'ground beef', 'french fries'}), items_add=frozenset({'herb & pepper', '0'}), confidence=0.23076923076923078, lift=4.665768194070081), OrderedStatistic(items_base=frozenset({'herb & pepper', 'french fries'}), items_add=frozenset({'ground beef', '0'}), confidence=0.46153846153846156, lift=4.697421981004071), OrderedStatistic(items_base=frozenset({'ground beef', 'french fries', '0'}), items_add=frozenset({'herb & pepper'}), confidence=0.23076923076923078, lift=4.665768194070081), OrderedStatistic(items_base=frozenset({'herb & pepper', 'french fries', '0'}), items_add=frozenset({'ground beef'}), confidence=0.46153846153846156, lift=4.697421981004071)]), RelationRecord(items=frozenset({'green tea', 'tomatoes', '0', 'frozen vegetables'}), support=0.003332888948140248, ordered_statistics=[OrderedStatistic(items_base=frozenset({'green tea', 'frozen vegetables'}), items_add=frozenset({'tomatoes', '0'}), confidence=0.2314814814814815, lift=3.38468341635983), OrderedStatistic(items_base=frozenset({'green tea', '0', 'frozen vegetables'}), items_add=frozenset({'tomatoes'}), confidence=0.2314814814814815, lift=3.38468341635983)]), RelationRecord(items=frozenset({'ground beef', 'spaghetti', '0', 'frozen vegetables'}), support=0.008665511265164644, ordered_statistics=[OrderedStatistic(items_base=frozenset({'spaghetti', 'frozen vegetables'}), items_add=frozenset({'ground beef', '0'}), confidence=0.31100478468899523, lift=3.165328208890303), OrderedStatistic(items_base=frozenset({'spaghetti', '0', 'frozen vegetables'}), items_add=frozenset({'ground beef'}), confidence=0.31100478468899523, lift=3.165328208890303)]), RelationRecord(items=frozenset({'milk', 'olive oil', '0', 'frozen vegetables'}), support=0.004799360085321957, ordered_statistics=[OrderedStatistic(items_base=frozenset({'frozen vegetables', 'milk'}), items_add=frozenset({'olive oil', '0'}), confidence=0.20338983050847456, lift=3.094578333963626), OrderedStatistic(items_base=frozenset({'olive oil', 'frozen vegetables'}), items_add=frozenset({'0', 'milk'}), confidence=0.4235294117647058, lift=3.2684095860566447), OrderedStatistic(items_base=frozenset({'milk', '0', 'frozen vegetables'}), items_add=frozenset({'olive oil'}), confidence=0.20338983050847456, lift=3.088314005352364), OrderedStatistic(items_base=frozenset({'olive oil', '0', 'frozen vegetables'}), items_add=frozenset({'milk'}), confidence=0.4235294117647058, lift=3.2684095860566447)]), RelationRecord(items=frozenset({'milk', 'soup', '0', 'frozen vegetables'}), support=0.003999466737768298, ordered_statistics=[OrderedStatistic(items_base=frozenset({'soup', 'frozen vegetables'}), items_add=frozenset({'0', 'milk'}), confidence=0.5, lift=3.858539094650206), OrderedStatistic(items_base=frozenset({'soup', '0', 'frozen vegetables'}), items_add=frozenset({'milk'}), confidence=0.5, lift=3.858539094650206)]), RelationRecord(items=frozenset({'milk', 'tomatoes', '0', 'frozen vegetables'}), support=0.0041327822956939075, ordered_statistics=[OrderedStatistic(items_base=frozenset({'tomatoes', 'milk'}), items_add=frozenset({'0', 'frozen vegetables'}), confidence=0.29523809523809524, lift=3.0973160173160172), OrderedStatistic(items_base=frozenset({'tomatoes', '0', 'milk'}), items_add=frozenset({'frozen vegetables'}), confidence=0.29523809523809524, lift=3.0973160173160172)]), RelationRecord(items=frozenset({'shrimp', '0', 'mineral water', 'frozen vegetables'}), support=0.007199040127982935, ordered_statistics=[OrderedStatistic(items_base=frozenset({'shrimp', 'mineral water'}), items_add=frozenset({'0', 'frozen vegetables'}), confidence=0.30508474576271183, lift=3.200616332819722), OrderedStatistic(items_base=frozenset({'shrimp', '0', 'mineral water'}), items_add=frozenset({'frozen vegetables'}), confidence=0.3068181818181818, lift=3.218801652892562)]), RelationRecord(items=frozenset({'spaghetti', 'olive oil', '0', 'frozen vegetables'}), support=0.005732568990801226, ordered_statistics=[OrderedStatistic(items_base=frozenset({'spaghetti', 'frozen vegetables'}), items_add=frozenset({'olive oil', '0'}), confidence=0.20574162679425836, lift=3.1303609383037156), OrderedStatistic(items_base=frozenset({'spaghetti', '0', 'frozen vegetables'}), items_add=frozenset({'olive oil'}), confidence=0.20574162679425836, lift=3.1240241752707125)]), RelationRecord(items=frozenset({'shrimp', 'spaghetti', '0', 'frozen vegetables'}), support=0.005999200106652446, ordered_statistics=[OrderedStatistic(items_base=frozenset({'spaghetti', 'frozen vegetables'}), items_add=frozenset({'shrimp', '0'}), confidence=0.21531100478468898, lift=3.0187810222242093), OrderedStatistic(items_base=frozenset({'spaghetti', '0', 'frozen vegetables'}), items_add=frozenset({'shrimp'}), confidence=0.21531100478468898, lift=3.0131489680782684)]), RelationRecord(items=frozenset({'shrimp', 'tomatoes', '0', 'frozen vegetables'}), support=0.003999466737768298, ordered_statistics=[OrderedStatistic(items_base=frozenset({'shrimp', 'frozen vegetables'}), items_add=frozenset({'tomatoes', '0'}), confidence=0.24000000000000002, lift=3.5092397660818717), OrderedStatistic(items_base=frozenset({'tomatoes', 'frozen vegetables'}), items_add=frozenset({'shrimp', '0'}), confidence=0.2479338842975207, lift=3.4761720861975753), OrderedStatistic(items_base=frozenset({'shrimp', 'tomatoes'}), items_add=frozenset({'0', 'frozen vegetables'}), confidence=0.35714285714285715, lift=3.7467532467532467), OrderedStatistic(items_base=frozenset({'shrimp', '0', 'frozen vegetables'}), items_add=frozenset({'tomatoes'}), confidence=0.24000000000000002, lift=3.5092397660818717), OrderedStatistic(items_base=frozenset({'tomatoes', '0', 'frozen vegetables'}), items_add=frozenset({'shrimp'}), confidence=0.2479338842975207, lift=3.4696866905143704), OrderedStatistic(items_base=frozenset({'shrimp', 'tomatoes', '0'}), items_add=frozenset({'frozen vegetables'}), confidence=0.35714285714285715, lift=3.7467532467532467)]), RelationRecord(items=frozenset({'tomatoes', 'spaghetti', '0', 'frozen vegetables'}), support=0.006665777896280496, ordered_statistics=[OrderedStatistic(items_base=frozenset({'spaghetti', 'frozen vegetables'}), items_add=frozenset({'tomatoes', '0'}), confidence=0.23923444976076558, lift=3.4980460188216425), OrderedStatistic(items_base=frozenset({'tomatoes', 'spaghetti'}), items_add=frozenset({'0', 'frozen vegetables'}), confidence=0.3184713375796179, lift=3.341053850607991), OrderedStatistic(items_base=frozenset({'spaghetti', '0', 'frozen vegetables'}), items_add=frozenset({'tomatoes'}), confidence=0.23923444976076558, lift=3.4980460188216425), OrderedStatistic(items_base=frozenset({'tomatoes', 'spaghetti', '0'}), items_add=frozenset({'frozen vegetables'}), confidence=0.3184713375796179, lift=3.341053850607991)]), RelationRecord(items=frozenset({'grated cheese', 'ground beef', 'spaghetti', '0'}), support=0.005332622317024397, ordered_statistics=[OrderedStatistic(items_base=frozenset({'spaghetti', 'grated cheese'}), items_add=frozenset({'ground beef', '0'}), confidence=0.3225806451612903, lift=3.283144395325426), OrderedStatistic(items_base=frozenset({'grated cheese', 'spaghetti', '0'}), items_add=frozenset({'ground beef'}), confidence=0.3225806451612903, lift=3.283144395325426)]), RelationRecord(items=frozenset({'tomatoes', 'green tea', 'ground beef', '0'}), support=0.0030662578322890282, ordered_statistics=[OrderedStatistic(items_base=frozenset({'green tea', 'ground beef'}), items_add=frozenset({'tomatoes', '0'}), confidence=0.2072072072072072, lift=3.0297490472929067), OrderedStatistic(items_base=frozenset({'green tea', 'ground beef', '0'}), items_add=frozenset({'tomatoes'}), confidence=0.2072072072072072, lift=3.0297490472929067)]), RelationRecord(items=frozenset({'herb & pepper', 'ground beef', '0', 'milk'}), support=0.0035995200639914677, ordered_statistics=[OrderedStatistic(items_base=frozenset({'herb & pepper', 'milk'}), items_add=frozenset({'ground beef', '0'}), confidence=0.3913043478260869, lift=3.9825968969382335), OrderedStatistic(items_base=frozenset({'herb & pepper', '0', 'milk'}), items_add=frozenset({'ground beef'}), confidence=0.3913043478260869, lift=3.9825968969382335)]), RelationRecord(items=frozenset({'herb & pepper', 'ground beef', '0', 'mineral water'}), support=0.006665777896280496, ordered_statistics=[OrderedStatistic(items_base=frozenset({'herb & pepper', 'mineral water'}), items_add=frozenset({'ground beef', '0'}), confidence=0.39062500000000006, lift=3.975682666214383), OrderedStatistic(items_base=frozenset({'herb & pepper', '0', 'mineral water'}), items_add=frozenset({'ground beef'}), confidence=0.39062500000000006, lift=3.975682666214383)]), RelationRecord(items=frozenset({'herb & pepper', 'ground beef', 'spaghetti', '0'}), support=0.006399146780429276, ordered_statistics=[OrderedStatistic(items_base=frozenset({'herb & pepper', 'spaghetti'}), items_add=frozenset({'ground beef', '0'}), confidence=0.3934426229508197, lift=4.004359721511667), OrderedStatistic(items_base=frozenset({'herb & pepper', 'spaghetti', '0'}), items_add=frozenset({'ground beef'}), confidence=0.3934426229508197, lift=4.004359721511667)]), RelationRecord(items=frozenset({'ground beef', 'olive oil', '0', 'milk'}), support=0.004932675643247567, ordered_statistics=[OrderedStatistic(items_base=frozenset({'ground beef', 'milk'}), items_add=frozenset({'olive oil', '0'}), confidence=0.22424242424242427, lift=3.4118507591124225), OrderedStatistic(items_base=frozenset({'ground beef', '0', 'milk'}), items_add=frozenset({'olive oil'}), confidence=0.22424242424242427, lift=3.40494417862839)]), RelationRecord(items=frozenset({'ground beef', 'soup', '0', 'milk'}), support=0.003999466737768298, ordered_statistics=[OrderedStatistic(items_base=frozenset({'ground beef', 'soup'}), items_add=frozenset({'0', 'milk'}), confidence=0.4109589041095891, lift=3.1714019956029094), OrderedStatistic(items_base=frozenset({'ground beef', 'soup', '0'}), items_add=frozenset({'milk'}), confidence=0.4109589041095891, lift=3.1714019956029094)]), RelationRecord(items=frozenset({'ground beef', 'spaghetti', '0', 'pepper'}), support=0.003332888948140248, ordered_statistics=[OrderedStatistic(items_base=frozenset({'spaghetti', 'pepper'}), items_add=frozenset({'ground beef', '0'}), confidence=0.33783783783783783, lift=3.4384282518610876), OrderedStatistic(items_base=frozenset({'spaghetti', '0', 'pepper'}), items_add=frozenset({'ground beef'}), confidence=0.33783783783783783, lift=3.4384282518610876)]), RelationRecord(items=frozenset({'shrimp', 'ground beef', 'spaghetti', '0'}), support=0.005999200106652446, ordered_statistics=[OrderedStatistic(items_base=frozenset({'shrimp', 'ground beef'}), items_add=frozenset({'spaghetti', '0'}), confidence=0.5232558139534884, lift=3.005315360233627), OrderedStatistic(items_base=frozenset({'shrimp', 'ground beef', '0'}), items_add=frozenset({'spaghetti'}), confidence=0.5232558139534884, lift=3.005315360233627)]), RelationRecord(items=frozenset({'ground beef', 'spaghetti', 'tomato sauce', '0'}), support=0.0030662578322890282, ordered_statistics=[OrderedStatistic(items_base=frozenset({'tomato sauce'}), items_add=frozenset({'ground beef', 'spaghetti', '0'}), confidence=0.2169811320754717, lift=5.535970992170453), OrderedStatistic(items_base=frozenset({'tomato sauce', '0'}), items_add=frozenset({'ground beef', 'spaghetti'}), confidence=0.2169811320754717, lift=5.535970992170453), OrderedStatistic(items_base=frozenset({'ground beef', 'tomato sauce'}), items_add=frozenset({'spaghetti', '0'}), confidence=0.5750000000000001, lift=3.3025076569678413), OrderedStatistic(items_base=frozenset({'tomato sauce', 'spaghetti'}), items_add=frozenset({'ground beef', '0'}), confidence=0.4893617021276596, lift=4.980599901844742), OrderedStatistic(items_base=frozenset({'ground beef', 'tomato sauce', '0'}), items_add=frozenset({'spaghetti'}), confidence=0.5750000000000001, lift=3.3025076569678413), OrderedStatistic(items_base=frozenset({'spaghetti', 'tomato sauce', '0'}), items_add=frozenset({'ground beef'}), confidence=0.4893617021276596, lift=4.980599901844742)]), RelationRecord(items=frozenset({'spaghetti', 'light cream', '0', 'mineral water'}), support=0.003199573390214638, ordered_statistics=[OrderedStatistic(items_base=frozenset({'light cream'}), items_add=frozenset({'spaghetti', '0', 'mineral water'}), confidence=0.20512820512820515, lift=3.4345238095238098), OrderedStatistic(items_base=frozenset({'light cream', '0'}), items_add=frozenset({'spaghetti', 'mineral water'}), confidence=0.20512820512820515, lift=3.4345238095238098)]), RelationRecord(items=frozenset({'shrimp', 'olive oil', '0', 'milk'}), support=0.003199573390214638, ordered_statistics=[OrderedStatistic(items_base=frozenset({'shrimp', 'olive oil'}), items_add=frozenset({'0', 'milk'}), confidence=0.3934426229508197, lift=3.0362274843149164), OrderedStatistic(items_base=frozenset({'shrimp', 'olive oil', '0'}), items_add=frozenset({'milk'}), confidence=0.39999999999999997, lift=3.0868312757201646)]), RelationRecord(items=frozenset({'soup', 'olive oil', '0', 'milk'}), support=0.0035995200639914677, ordered_statistics=[OrderedStatistic(items_base=frozenset({'olive oil', 'milk'}), items_add=frozenset({'soup', '0'}), confidence=0.2109375, lift=4.174781497361478), OrderedStatistic(items_base=frozenset({'soup', 'milk'}), items_add=frozenset({'olive oil', '0'}), confidence=0.23684210526315788, lift=3.603555033628696), OrderedStatistic(items_base=frozenset({'olive oil', 'soup'}), items_add=frozenset({'0', 'milk'}), confidence=0.4029850746268656, lift=3.1098673300165833), OrderedStatistic(items_base=frozenset({'olive oil', '0', 'milk'}), items_add=frozenset({'soup'}), confidence=0.2109375, lift=4.174781497361478), OrderedStatistic(items_base=frozenset({'soup', '0', 'milk'}), items_add=frozenset({'olive oil'}), confidence=0.23684210526315788, lift=3.5962603878116344), OrderedStatistic(items_base=frozenset({'soup', 'olive oil', '0'}), items_add=frozenset({'milk'}), confidence=0.4029850746268656, lift=3.1098673300165833)]), RelationRecord(items=frozenset({'spaghetti', 'olive oil', '0', 'milk'}), support=0.007199040127982935, ordered_statistics=[OrderedStatistic(items_base=frozenset({'spaghetti', 'milk'}), items_add=frozenset({'olive oil', '0'}), confidence=0.20300751879699247, lift=3.088761457396025), OrderedStatistic(items_base=frozenset({'spaghetti', '0', 'milk'}), items_add=frozenset({'olive oil'}), confidence=0.20300751879699247, lift=3.0825089038385434)]), RelationRecord(items=frozenset({'soup', 'tomatoes', '0', 'milk'}), support=0.0030662578322890282, ordered_statistics=[OrderedStatistic(items_base=frozenset({'tomatoes', 'milk'}), items_add=frozenset({'soup', '0'}), confidence=0.21904761904761905, lift=4.335293378565146), OrderedStatistic(items_base=frozenset({'tomatoes', 'soup'}), items_add=frozenset({'0', 'milk'}), confidence=0.44230769230769235, lift=3.4133230452674903), OrderedStatistic(items_base=frozenset({'tomatoes', '0', 'milk'}), items_add=frozenset({'soup'}), confidence=0.21904761904761905, lift=4.335293378565146), OrderedStatistic(items_base=frozenset({'soup', 'tomatoes', '0'}), items_add=frozenset({'milk'}), confidence=0.44230769230769235, lift=3.4133230452674903)]), RelationRecord(items=frozenset({'spaghetti', '0', 'whole wheat pasta', 'milk'}), support=0.003999466737768298, ordered_statistics=[OrderedStatistic(items_base=frozenset({'whole wheat pasta', 'spaghetti'}), items_add=frozenset({'0', 'milk'}), confidence=0.4545454545454546, lift=3.5077628133183696), OrderedStatistic(items_base=frozenset({'spaghetti', '0', 'whole wheat pasta'}), items_add=frozenset({'milk'}), confidence=0.4545454545454546, lift=3.5077628133183696)]), RelationRecord(items=frozenset({'soup', 'olive oil', '0', 'mineral water'}), support=0.005199306759098787, ordered_statistics=[OrderedStatistic(items_base=frozenset({'soup', 'mineral water'}), items_add=frozenset({'olive oil', '0'}), confidence=0.22543352601156072, lift=3.429973384609973), OrderedStatistic(items_base=frozenset({'soup', '0', 'mineral water'}), items_add=frozenset({'olive oil'}), confidence=0.22543352601156072, lift=3.4230301186492245)]), RelationRecord(items=frozenset({'whole wheat pasta', 'olive oil', '0', 'mineral water'}), support=0.0038661511798426876, ordered_statistics=[OrderedStatistic(items_base=frozenset({'whole wheat pasta', 'mineral water'}), items_add=frozenset({'olive oil', '0'}), confidence=0.4027777777777778, lift=6.128267973856209), OrderedStatistic(items_base=frozenset({'whole wheat pasta', '0', 'mineral water'}), items_add=frozenset({'olive oil'}), confidence=0.4027777777777778, lift=6.115862573099416)]), RelationRecord(items=frozenset({'pancakes', 'spaghetti', 'olive oil', '0'}), support=0.005065991201173177, ordered_statistics=[OrderedStatistic(items_base=frozenset({'pancakes', 'spaghetti'}), items_add=frozenset({'olive oil', '0'}), confidence=0.20105820105820105, lift=3.0591025682303568), OrderedStatistic(items_base=frozenset({'pancakes', 'spaghetti', '0'}), items_add=frozenset({'olive oil'}), confidence=0.20105820105820105, lift=3.0529100529100526)]), RelationRecord(items=frozenset({'tomatoes', 'spaghetti', 'olive oil', '0'}), support=0.004399413411545127, ordered_statistics=[OrderedStatistic(items_base=frozenset({'tomatoes', 'olive oil'}), items_add=frozenset({'spaghetti', '0'}), confidence=0.6111111111111112, lift=3.5099115194827295), OrderedStatistic(items_base=frozenset({'tomatoes', 'spaghetti'}), items_add=frozenset({'olive oil', '0'}), confidence=0.21019108280254778, lift=3.1980594565961677), OrderedStatistic(items_base=frozenset({'tomatoes', 'olive oil', '0'}), items_add=frozenset({'spaghetti'}), confidence=0.6111111111111112, lift=3.5099115194827295), OrderedStatistic(items_base=frozenset({'tomatoes', 'spaghetti', '0'}), items_add=frozenset({'olive oil'}), confidence=0.21019108280254778, lift=3.19158565202816)]), RelationRecord(items=frozenset({'tomatoes', 'spaghetti', '0', 'whole wheat rice'}), support=0.0030662578322890282, ordered_statistics=[OrderedStatistic(items_base=frozenset({'spaghetti', 'whole wheat rice'}), items_add=frozenset({'tomatoes', '0'}), confidence=0.2169811320754717, lift=3.1726617382029496), OrderedStatistic(items_base=frozenset({'spaghetti', '0', 'whole wheat rice'}), items_add=frozenset({'tomatoes'}), confidence=0.2169811320754717, lift=3.1726617382029496)]), RelationRecord(items=frozenset({'eggs', 'ground beef', 'mineral water', 'chocolate'}), support=0.003999466737768298, ordered_statistics=[OrderedStatistic(items_base=frozenset({'ground beef', 'eggs'}), items_add=frozenset({'mineral water', 'chocolate'}), confidence=0.20000000000000004, lift=3.7979746835443047), OrderedStatistic(items_base=frozenset({'eggs', 'mineral water', 'chocolate'}), items_add=frozenset({'ground beef'}), confidence=0.29702970297029707, lift=3.023093354111531)]), RelationRecord(items=frozenset({'ground beef', 'frozen vegetables', 'mineral water', 'chocolate'}), support=0.003332888948140248, ordered_statistics=[OrderedStatistic(items_base=frozenset({'frozen vegetables', 'mineral water', 'chocolate'}), items_add=frozenset({'ground beef'}), confidence=0.34246575342465757, lift=3.4855300087358976), OrderedStatistic(items_base=frozenset({'ground beef', 'mineral water', 'chocolate'}), items_add=frozenset({'frozen vegetables'}), confidence=0.30487804878048785, lift=3.1984478935698455)]), RelationRecord(items=frozenset({'ground beef', 'spaghetti', 'frozen vegetables', 'chocolate'}), support=0.0030662578322890282, ordered_statistics=[OrderedStatistic(items_base=frozenset({'ground beef', 'frozen vegetables', 'chocolate'}), items_add=frozenset({'spaghetti'}), confidence=0.5348837209302326, lift=3.0721001460165964), OrderedStatistic(items_base=frozenset({'spaghetti', 'frozen vegetables', 'chocolate'}), items_add=frozenset({'ground beef'}), confidence=0.3898305084745763, lift=3.967596531978015), OrderedStatistic(items_base=frozenset({'ground beef', 'spaghetti', 'chocolate'}), items_add=frozenset({'frozen vegetables'}), confidence=0.33333333333333337, lift=3.4969696969696975)]), RelationRecord(items=frozenset({'milk', 'frozen vegetables', 'mineral water', 'chocolate'}), support=0.003999466737768298, ordered_statistics=[OrderedStatistic(items_base=frozenset({'frozen vegetables', 'mineral water', 'chocolate'}), items_add=frozenset({'milk'}), confidence=0.4109589041095891, lift=3.1714019956029094)]), RelationRecord(items=frozenset({'milk', 'spaghetti', 'frozen vegetables', 'chocolate'}), support=0.0034662045060658577, ordered_statistics=[OrderedStatistic(items_base=frozenset({'spaghetti', 'frozen vegetables', 'chocolate'}), items_add=frozenset({'milk'}), confidence=0.44067796610169485, lift=3.4007463207086555), OrderedStatistic(items_base=frozenset({'milk', 'spaghetti', 'chocolate'}), items_add=frozenset({'frozen vegetables'}), confidence=0.3170731707317073, lift=3.3263858093126384)]), RelationRecord(items=frozenset({'shrimp', 'frozen vegetables', 'mineral water', 'chocolate'}), support=0.003199573390214638, ordered_statistics=[OrderedStatistic(items_base=frozenset({'frozen vegetables', 'mineral water', 'chocolate'}), items_add=frozenset({'shrimp'}), confidence=0.32876712328767127, lift=4.600899611531385), OrderedStatistic(items_base=frozenset({'shrimp', 'mineral water', 'chocolate'}), items_add=frozenset({'frozen vegetables'}), confidence=0.4210526315789474, lift=4.417224880382776)]), RelationRecord(items=frozenset({'olive oil', 'spaghetti', 'mineral water', 'chocolate'}), support=0.0038661511798426876, ordered_statistics=[OrderedStatistic(items_base=frozenset({'olive oil', 'chocolate'}), items_add=frozenset({'spaghetti', 'mineral water'}), confidence=0.23577235772357724, lift=3.947608159117306), OrderedStatistic(items_base=frozenset({'spaghetti', 'mineral water', 'chocolate'}), items_add=frozenset({'olive oil'}), confidence=0.2436974789915966, lift=3.700353825740822)]), RelationRecord(items=frozenset({'shrimp', 'spaghetti', 'mineral water', 'chocolate'}), support=0.0034662045060658577, ordered_statistics=[OrderedStatistic(items_base=frozenset({'spaghetti', 'mineral water', 'chocolate'}), items_add=frozenset({'shrimp'}), confidence=0.21848739495798317, lift=3.0576006522011783)]), RelationRecord(items=frozenset({'milk', 'frozen vegetables', 'mineral water', 'eggs'}), support=0.0037328356219170776, ordered_statistics=[OrderedStatistic(items_base=frozenset({'frozen vegetables', 'mineral water', 'eggs'}), items_add=frozenset({'milk'}), confidence=0.411764705882353, lift=3.177620430888405)]), RelationRecord(items=frozenset({'frozen smoothie', 'spaghetti', 'mineral water', 'milk'}), support=0.003199573390214638, ordered_statistics=[OrderedStatistic(items_base=frozenset({'frozen smoothie', 'milk'}), items_add=frozenset({'spaghetti', 'mineral water'}), confidence=0.22429906542056074, lift=3.7555073431241657), OrderedStatistic(items_base=frozenset({'frozen smoothie', 'spaghetti'}), items_add=frozenset({'mineral water', 'milk'}), confidence=0.20512820512820515, lift=4.274074074074075), OrderedStatistic(items_base=frozenset({'frozen smoothie', 'spaghetti', 'mineral water'}), items_add=frozenset({'milk'}), confidence=0.4705882352941177, lift=3.631566206729606), OrderedStatistic(items_base=frozenset({'spaghetti', 'mineral water', 'milk'}), items_add=frozenset({'frozen smoothie'}), confidence=0.2033898305084746, lift=3.211846565566459)]), RelationRecord(items=frozenset({'ground beef', 'frozen vegetables', 'mineral water', 'milk'}), support=0.0037328356219170776, ordered_statistics=[OrderedStatistic(items_base=frozenset({'ground beef', 'frozen vegetables'}), items_add=frozenset({'mineral water', 'milk'}), confidence=0.22047244094488186, lift=4.593788276465442), OrderedStatistic(items_base=frozenset({'ground beef', 'frozen vegetables', 'mineral water'}), items_add=frozenset({'milk'}), confidence=0.40579710144927533, lift=3.1315679608755294), OrderedStatistic(items_base=frozenset({'frozen vegetables', 'mineral water', 'milk'}), items_add=frozenset({'ground beef'}), confidence=0.3373493975903614, lift=3.4334570302921317), OrderedStatistic(items_base=frozenset({'ground beef', 'mineral water', 'milk'}), items_add=frozenset({'frozen vegetables'}), confidence=0.3373493975903614, lift=3.539101861993428)]), RelationRecord(items=frozenset({'ground beef', 'spaghetti', 'frozen vegetables', 'milk'}), support=0.0030662578322890282, ordered_statistics=[OrderedStatistic(items_base=frozenset({'ground beef', 'frozen vegetables', 'milk'}), items_add=frozenset({'spaghetti'}), confidence=0.5348837209302326, lift=3.0721001460165964), OrderedStatistic(items_base=frozenset({'spaghetti', 'frozen vegetables', 'milk'}), items_add=frozenset({'ground beef'}), confidence=0.3709677419354839, lift=3.7756160546242397), OrderedStatistic(items_base=frozenset({'ground beef', 'spaghetti', 'milk'}), items_add=frozenset({'frozen vegetables'}), confidence=0.3150684931506849, lift=3.305354919053549)]), RelationRecord(items=frozenset({'ground beef', 'spaghetti', 'frozen vegetables', 'mineral water'}), support=0.004399413411545127, ordered_statistics=[OrderedStatistic(items_base=frozenset({'ground beef', 'frozen vegetables'}), items_add=frozenset({'spaghetti', 'mineral water'}), confidence=0.25984251968503935, lift=4.350622187851519), OrderedStatistic(items_base=frozenset({'spaghetti', 'frozen vegetables', 'mineral water'}), items_add=frozenset({'ground beef'}), confidence=0.3666666666666667, lift=3.7318407960199007)]), RelationRecord(items=frozenset({'olive oil', 'frozen vegetables', 'mineral water', 'milk'}), support=0.003332888948140248, ordered_statistics=[OrderedStatistic(items_base=frozenset({'olive oil', 'frozen vegetables'}), items_add=frozenset({'mineral water', 'milk'}), confidence=0.29411764705882354, lift=6.12826797385621), OrderedStatistic(items_base=frozenset({'frozen vegetables', 'mineral water', 'milk'}), items_add=frozenset({'olive oil'}), confidence=0.30120481927710846, lift=4.573557387444516), OrderedStatistic(items_base=frozenset({'olive oil', 'frozen vegetables', 'mineral water'}), items_add=frozenset({'milk'}), confidence=0.5102040816326531, lift=3.937284790459394), OrderedStatistic(items_base=frozenset({'olive oil', 'mineral water', 'milk'}), items_add=frozenset({'frozen vegetables'}), confidence=0.39062500000000006, lift=4.098011363636364)]), RelationRecord(items=frozenset({'soup', 'frozen vegetables', 'mineral water', 'milk'}), support=0.0030662578322890282, ordered_statistics=[OrderedStatistic(items_base=frozenset({'soup', 'frozen vegetables'}), items_add=frozenset({'mineral water', 'milk'}), confidence=0.3833333333333333, lift=7.987175925925926), OrderedStatistic(items_base=frozenset({'soup', 'milk'}), items_add=frozenset({'frozen vegetables', 'mineral water'}), confidence=0.20175438596491227, lift=5.646864362398533), OrderedStatistic(items_base=frozenset({'frozen vegetables', 'mineral water', 'milk'}), items_add=frozenset({'soup'}), confidence=0.27710843373493976, lift=5.484407286136631), OrderedStatistic(items_base=frozenset({'soup', 'frozen vegetables', 'milk'}), items_add=frozenset({'mineral water'}), confidence=0.7666666666666666, lift=3.21631245339299), OrderedStatistic(items_base=frozenset({'soup', 'frozen vegetables', 'mineral water'}), items_add=frozenset({'milk'}), confidence=0.6052631578947368, lift=4.670863114576565), OrderedStatistic(items_base=frozenset({'soup', 'mineral water', 'milk'}), items_add=frozenset({'frozen vegetables'}), confidence=0.35937500000000006, lift=3.7701704545454553)]), RelationRecord(items=frozenset({'spaghetti', 'frozen vegetables', 'mineral water', 'milk'}), support=0.004532728969470737, ordered_statistics=[OrderedStatistic(items_base=frozenset({'spaghetti', 'mineral water', 'milk'}), items_add=frozenset({'frozen vegetables'}), confidence=0.28813559322033894, lift=3.0228043143297376)]), RelationRecord(items=frozenset({'shrimp', 'spaghetti', 'frozen vegetables', 'mineral water'}), support=0.003332888948140248, ordered_statistics=[OrderedStatistic(items_base=frozenset({'shrimp', 'frozen vegetables'}), items_add=frozenset({'spaghetti', 'mineral water'}), confidence=0.2, lift=3.3486607142857148), OrderedStatistic(items_base=frozenset({'spaghetti', 'frozen vegetables', 'mineral water'}), items_add=frozenset({'shrimp'}), confidence=0.2777777777777778, lift=3.8873341625207294), OrderedStatistic(items_base=frozenset({'shrimp', 'spaghetti', 'mineral water'}), items_add=frozenset({'frozen vegetables'}), confidence=0.39062500000000006, lift=4.098011363636364)]), RelationRecord(items=frozenset({'tomatoes', 'spaghetti', 'frozen vegetables', 'mineral water'}), support=0.0030662578322890282, ordered_statistics=[OrderedStatistic(items_base=frozenset({'spaghetti', 'frozen vegetables', 'mineral water'}), items_add=frozenset({'tomatoes'}), confidence=0.2555555555555556, lift=3.7366904916612524), OrderedStatistic(items_base=frozenset({'tomatoes', 'frozen vegetables', 'mineral water'}), items_add=frozenset({'spaghetti'}), confidence=0.5227272727272727, lift=3.0022796881525826), OrderedStatistic(items_base=frozenset({'tomatoes', 'spaghetti', 'mineral water'}), items_add=frozenset({'frozen vegetables'}), confidence=0.32857142857142857, lift=3.447012987012987)]), RelationRecord(items=frozenset({'ground beef', 'spaghetti', 'mineral water', 'milk'}), support=0.004399413411545127, ordered_statistics=[OrderedStatistic(items_base=frozenset({'ground beef', 'milk'}), items_add=frozenset({'spaghetti', 'mineral water'}), confidence=0.2, lift=3.3486607142857148)]), RelationRecord(items=frozenset({'ground beef', 'olive oil', 'spaghetti', 'mineral water'}), support=0.0030662578322890282, ordered_statistics=[OrderedStatistic(items_base=frozenset({'ground beef', 'olive oil'}), items_add=frozenset({'spaghetti', 'mineral water'}), confidence=0.2169811320754717, lift=3.63298096361186), OrderedStatistic(items_base=frozenset({'olive oil', 'spaghetti', 'mineral water'}), items_add=frozenset({'ground beef'}), confidence=0.2987012987012987, lift=3.0401064335935435)]), RelationRecord(items=frozenset({'pancakes', 'ground beef', 'spaghetti', 'mineral water'}), support=0.0030662578322890282, ordered_statistics=[OrderedStatistic(items_base=frozenset({'pancakes', 'ground beef'}), items_add=frozenset({'spaghetti', 'mineral water'}), confidence=0.21100917431192662, lift=3.532990661861075)]), RelationRecord(items=frozenset({'ground beef', 'tomatoes', 'spaghetti', 'mineral water'}), support=0.0030662578322890282, ordered_statistics=[OrderedStatistic(items_base=frozenset({'ground beef', 'tomatoes'}), items_add=frozenset({'spaghetti', 'mineral water'}), confidence=0.26136363636363635, lift=4.3760907061688314), OrderedStatistic(items_base=frozenset({'ground beef', 'tomatoes', 'mineral water'}), items_add=frozenset({'spaghetti'}), confidence=0.5609756097560976, lift=3.221958689724723), OrderedStatistic(items_base=frozenset({'tomatoes', 'spaghetti', 'mineral water'}), items_add=frozenset({'ground beef'}), confidence=0.32857142857142857, lift=3.344117076952898)]), RelationRecord(items=frozenset({'olive oil', 'spaghetti', 'mineral water', 'milk'}), support=0.003332888948140248, ordered_statistics=[OrderedStatistic(items_base=frozenset({'spaghetti', 'mineral water', 'milk'}), items_add=frozenset({'olive oil'}), confidence=0.211864406779661, lift=3.216993755575379)]), RelationRecord(items=frozenset({'tomatoes', 'spaghetti', 'mineral water', 'milk'}), support=0.003332888948140248, ordered_statistics=[OrderedStatistic(items_base=frozenset({'tomatoes', 'milk'}), items_add=frozenset({'spaghetti', 'mineral water'}), confidence=0.2380952380952381, lift=3.9865008503401365), OrderedStatistic(items_base=frozenset({'spaghetti', 'mineral water', 'milk'}), items_add=frozenset({'tomatoes'}), confidence=0.211864406779661, lift=3.0978458387022165)]), RelationRecord(items=frozenset({'0', 'eggs', 'ground beef', 'mineral water', 'chocolate'}), support=0.003999466737768298, ordered_statistics=[OrderedStatistic(items_base=frozenset({'ground beef', 'eggs'}), items_add=frozenset({'0', 'mineral water', 'chocolate'}), confidence=0.20000000000000004, lift=3.7979746835443047), OrderedStatistic(items_base=frozenset({'ground beef', '0', 'eggs'}), items_add=frozenset({'mineral water', 'chocolate'}), confidence=0.20000000000000004, lift=3.7979746835443047), OrderedStatistic(items_base=frozenset({'eggs', 'mineral water', 'chocolate'}), items_add=frozenset({'ground beef', '0'}), confidence=0.29702970297029707, lift=3.023093354111531), OrderedStatistic(items_base=frozenset({'eggs', '0', 'mineral water', 'chocolate'}), items_add=frozenset({'ground beef'}), confidence=0.29702970297029707, lift=3.023093354111531)]), RelationRecord(items=frozenset({'frozen vegetables', '0', 'ground beef', 'mineral water', 'chocolate'}), support=0.003332888948140248, ordered_statistics=[OrderedStatistic(items_base=frozenset({'frozen vegetables', 'mineral water', 'chocolate'}), items_add=frozenset({'ground beef', '0'}), confidence=0.34246575342465757, lift=3.4855300087358976), OrderedStatistic(items_base=frozenset({'ground beef', 'mineral water', 'chocolate'}), items_add=frozenset({'frozen vegetables', '0'}), confidence=0.30487804878048785, lift=3.1984478935698455), OrderedStatistic(items_base=frozenset({'frozen vegetables', '0', 'mineral water', 'chocolate'}), items_add=frozenset({'ground beef'}), confidence=0.34246575342465757, lift=3.4855300087358976), OrderedStatistic(items_base=frozenset({'ground beef', '0', 'mineral water', 'chocolate'}), items_add=frozenset({'frozen vegetables'}), confidence=0.30487804878048785, lift=3.1984478935698455)]), RelationRecord(items=frozenset({'frozen vegetables', '0', 'ground beef', 'spaghetti', 'chocolate'}), support=0.0030662578322890282, ordered_statistics=[OrderedStatistic(items_base=frozenset({'ground beef', 'frozen vegetables', 'chocolate'}), items_add=frozenset({'spaghetti', '0'}), confidence=0.5348837209302326, lift=3.0721001460165964), OrderedStatistic(items_base=frozenset({'spaghetti', 'frozen vegetables', 'chocolate'}), items_add=frozenset({'ground beef', '0'}), confidence=0.3898305084745763, lift=3.967596531978015), OrderedStatistic(items_base=frozenset({'ground beef', 'spaghetti', 'chocolate'}), items_add=frozenset({'frozen vegetables', '0'}), confidence=0.33333333333333337, lift=3.4969696969696975), OrderedStatistic(items_base=frozenset({'frozen vegetables', 'ground beef', '0', 'chocolate'}), items_add=frozenset({'spaghetti'}), confidence=0.5348837209302326, lift=3.0721001460165964), OrderedStatistic(items_base=frozenset({'frozen vegetables', 'spaghetti', '0', 'chocolate'}), items_add=frozenset({'ground beef'}), confidence=0.3898305084745763, lift=3.967596531978015), OrderedStatistic(items_base=frozenset({'ground beef', 'spaghetti', '0', 'chocolate'}), items_add=frozenset({'frozen vegetables'}), confidence=0.33333333333333337, lift=3.4969696969696975)]), RelationRecord(items=frozenset({'frozen vegetables', '0', 'milk', 'mineral water', 'chocolate'}), support=0.003999466737768298, ordered_statistics=[OrderedStatistic(items_base=frozenset({'frozen vegetables', 'mineral water', 'chocolate'}), items_add=frozenset({'0', 'milk'}), confidence=0.4109589041095891, lift=3.1714019956029094), OrderedStatistic(items_base=frozenset({'frozen vegetables', '0', 'mineral water', 'chocolate'}), items_add=frozenset({'milk'}), confidence=0.4109589041095891, lift=3.1714019956029094)]), RelationRecord(items=frozenset({'frozen vegetables', '0', 'milk', 'spaghetti', 'chocolate'}), support=0.0034662045060658577, ordered_statistics=[OrderedStatistic(items_base=frozenset({'spaghetti', 'frozen vegetables', 'chocolate'}), items_add=frozenset({'0', 'milk'}), confidence=0.44067796610169485, lift=3.4007463207086555), OrderedStatistic(items_base=frozenset({'milk', 'spaghetti', 'chocolate'}), items_add=frozenset({'frozen vegetables', '0'}), confidence=0.3170731707317073, lift=3.3263858093126384), OrderedStatistic(items_base=frozenset({'frozen vegetables', 'spaghetti', '0', 'chocolate'}), items_add=frozenset({'milk'}), confidence=0.44067796610169485, lift=3.4007463207086555), OrderedStatistic(items_base=frozenset({'milk', 'spaghetti', '0', 'chocolate'}), items_add=frozenset({'frozen vegetables'}), confidence=0.3170731707317073, lift=3.3263858093126384)]), RelationRecord(items=frozenset({'frozen vegetables', '0', 'mineral water', 'shrimp', 'chocolate'}), support=0.003199573390214638, ordered_statistics=[OrderedStatistic(items_base=frozenset({'frozen vegetables', 'mineral water', 'chocolate'}), items_add=frozenset({'shrimp', '0'}), confidence=0.32876712328767127, lift=4.609499423889387), OrderedStatistic(items_base=frozenset({'shrimp', 'mineral water', 'chocolate'}), items_add=frozenset({'frozen vegetables', '0'}), confidence=0.4210526315789474, lift=4.417224880382776), OrderedStatistic(items_base=frozenset({'frozen vegetables', '0', 'mineral water', 'chocolate'}), items_add=frozenset({'shrimp'}), confidence=0.32876712328767127, lift=4.600899611531385), OrderedStatistic(items_base=frozenset({'shrimp', '0', 'mineral water', 'chocolate'}), items_add=frozenset({'frozen vegetables'}), confidence=0.4210526315789474, lift=4.417224880382776)]), RelationRecord(items=frozenset({'0', 'spaghetti', 'mineral water', 'olive oil', 'chocolate'}), support=0.0038661511798426876, ordered_statistics=[OrderedStatistic(items_base=frozenset({'olive oil', 'chocolate'}), items_add=frozenset({'spaghetti', '0', 'mineral water'}), confidence=0.23577235772357724, lift=3.947608159117306), OrderedStatistic(items_base=frozenset({'olive oil', '0', 'chocolate'}), items_add=frozenset({'spaghetti', 'mineral water'}), confidence=0.23577235772357724, lift=3.947608159117306), OrderedStatistic(items_base=frozenset({'spaghetti', 'mineral water', 'chocolate'}), items_add=frozenset({'olive oil', '0'}), confidence=0.2436974789915966, lift=3.707859614434008), OrderedStatistic(items_base=frozenset({'spaghetti', '0', 'mineral water', 'chocolate'}), items_add=frozenset({'olive oil'}), confidence=0.2436974789915966, lift=3.700353825740822)]), RelationRecord(items=frozenset({'0', 'spaghetti', 'mineral water', 'shrimp', 'chocolate'}), support=0.0034662045060658577, ordered_statistics=[OrderedStatistic(items_base=frozenset({'spaghetti', 'mineral water', 'chocolate'}), items_add=frozenset({'shrimp', '0'}), confidence=0.21848739495798317, lift=3.063315793607162), OrderedStatistic(items_base=frozenset({'spaghetti', '0', 'mineral water', 'chocolate'}), items_add=frozenset({'shrimp'}), confidence=0.21848739495798317, lift=3.0576006522011783)]), RelationRecord(items=frozenset({'frozen vegetables', '0', 'eggs', 'milk', 'mineral water'}), support=0.0037328356219170776, ordered_statistics=[OrderedStatistic(items_base=frozenset({'frozen vegetables', 'mineral water', 'eggs'}), items_add=frozenset({'0', 'milk'}), confidence=0.411764705882353, lift=3.177620430888405), OrderedStatistic(items_base=frozenset({'frozen vegetables', '0', 'mineral water', 'eggs'}), items_add=frozenset({'milk'}), confidence=0.411764705882353, lift=3.177620430888405)]), RelationRecord(items=frozenset({'frozen smoothie', '0', 'milk', 'spaghetti', 'mineral water'}), support=0.003199573390214638, ordered_statistics=[OrderedStatistic(items_base=frozenset({'frozen smoothie', 'milk'}), items_add=frozenset({'spaghetti', '0', 'mineral water'}), confidence=0.22429906542056074, lift=3.7555073431241657), OrderedStatistic(items_base=frozenset({'frozen smoothie', 'spaghetti'}), items_add=frozenset({'0', 'mineral water', 'milk'}), confidence=0.20512820512820515, lift=4.274074074074075), OrderedStatistic(items_base=frozenset({'frozen smoothie', '0', 'milk'}), items_add=frozenset({'spaghetti', 'mineral water'}), confidence=0.22429906542056074, lift=3.7555073431241657), OrderedStatistic(items_base=frozenset({'frozen smoothie', 'spaghetti', '0'}), items_add=frozenset({'mineral water', 'milk'}), confidence=0.20512820512820515, lift=4.274074074074075), OrderedStatistic(items_base=frozenset({'frozen smoothie', 'spaghetti', 'mineral water'}), items_add=frozenset({'0', 'milk'}), confidence=0.4705882352941177, lift=3.631566206729606), OrderedStatistic(items_base=frozenset({'spaghetti', 'mineral water', 'milk'}), items_add=frozenset({'frozen smoothie', '0'}), confidence=0.2033898305084746, lift=3.218622613173139), OrderedStatistic(items_base=frozenset({'frozen smoothie', 'spaghetti', '0', 'mineral water'}), items_add=frozenset({'milk'}), confidence=0.4705882352941177, lift=3.631566206729606), OrderedStatistic(items_base=frozenset({'spaghetti', '0', 'mineral water', 'milk'}), items_add=frozenset({'frozen smoothie'}), confidence=0.2033898305084746, lift=3.211846565566459)]), RelationRecord(items=frozenset({'0', 'frozen vegetables', 'milk', 'ground beef', 'mineral water'}), support=0.0037328356219170776, ordered_statistics=[OrderedStatistic(items_base=frozenset({'ground beef', 'frozen vegetables'}), items_add=frozenset({'0', 'mineral water', 'milk'}), confidence=0.22047244094488186, lift=4.593788276465442), OrderedStatistic(items_base=frozenset({'ground beef', '0', 'frozen vegetables'}), items_add=frozenset({'mineral water', 'milk'}), confidence=0.22047244094488186, lift=4.593788276465442), OrderedStatistic(items_base=frozenset({'ground beef', 'frozen vegetables', 'mineral water'}), items_add=frozenset({'0', 'milk'}), confidence=0.40579710144927533, lift=3.1315679608755294), OrderedStatistic(items_base=frozenset({'frozen vegetables', 'mineral water', 'milk'}), items_add=frozenset({'ground beef', '0'}), confidence=0.3373493975903614, lift=3.4334570302921317), OrderedStatistic(items_base=frozenset({'ground beef', 'mineral water', 'milk'}), items_add=frozenset({'0', 'frozen vegetables'}), confidence=0.3373493975903614, lift=3.539101861993428), OrderedStatistic(items_base=frozenset({'ground beef', '0', 'mineral water', 'frozen vegetables'}), items_add=frozenset({'milk'}), confidence=0.40579710144927533, lift=3.1315679608755294), OrderedStatistic(items_base=frozenset({'milk', '0', 'mineral water', 'frozen vegetables'}), items_add=frozenset({'ground beef'}), confidence=0.3373493975903614, lift=3.4334570302921317), OrderedStatistic(items_base=frozenset({'ground beef', '0', 'mineral water', 'milk'}), items_add=frozenset({'frozen vegetables'}), confidence=0.3373493975903614, lift=3.539101861993428)]), RelationRecord(items=frozenset({'0', 'frozen vegetables', 'milk', 'ground beef', 'spaghetti'}), support=0.0030662578322890282, ordered_statistics=[OrderedStatistic(items_base=frozenset({'ground beef', 'frozen vegetables', 'milk'}), items_add=frozenset({'spaghetti', '0'}), confidence=0.5348837209302326, lift=3.0721001460165964), OrderedStatistic(items_base=frozenset({'spaghetti', 'frozen vegetables', 'milk'}), items_add=frozenset({'ground beef', '0'}), confidence=0.3709677419354839, lift=3.7756160546242397), OrderedStatistic(items_base=frozenset({'ground beef', 'spaghetti', 'milk'}), items_add=frozenset({'0', 'frozen vegetables'}), confidence=0.3150684931506849, lift=3.305354919053549), OrderedStatistic(items_base=frozenset({'milk', 'ground beef', '0', 'frozen vegetables'}), items_add=frozenset({'spaghetti'}), confidence=0.5348837209302326, lift=3.0721001460165964), OrderedStatistic(items_base=frozenset({'milk', 'spaghetti', '0', 'frozen vegetables'}), items_add=frozenset({'ground beef'}), confidence=0.3709677419354839, lift=3.7756160546242397), OrderedStatistic(items_base=frozenset({'ground beef', 'spaghetti', '0', 'milk'}), items_add=frozenset({'frozen vegetables'}), confidence=0.3150684931506849, lift=3.305354919053549)]), RelationRecord(items=frozenset({'0', 'frozen vegetables', 'ground beef', 'spaghetti', 'mineral water'}), support=0.004399413411545127, ordered_statistics=[OrderedStatistic(items_base=frozenset({'ground beef', 'frozen vegetables'}), items_add=frozenset({'spaghetti', '0', 'mineral water'}), confidence=0.25984251968503935, lift=4.350622187851519), OrderedStatistic(items_base=frozenset({'ground beef', '0', 'frozen vegetables'}), items_add=frozenset({'spaghetti', 'mineral water'}), confidence=0.25984251968503935, lift=4.350622187851519), OrderedStatistic(items_base=frozenset({'spaghetti', 'frozen vegetables', 'mineral water'}), items_add=frozenset({'ground beef', '0'}), confidence=0.3666666666666667, lift=3.7318407960199007), OrderedStatistic(items_base=frozenset({'spaghetti', '0', 'mineral water', 'frozen vegetables'}), items_add=frozenset({'ground beef'}), confidence=0.3666666666666667, lift=3.7318407960199007)]), RelationRecord(items=frozenset({'0', 'frozen vegetables', 'milk', 'mineral water', 'olive oil'}), support=0.003332888948140248, ordered_statistics=[OrderedStatistic(items_base=frozenset({'olive oil', 'frozen vegetables'}), items_add=frozenset({'0', 'mineral water', 'milk'}), confidence=0.29411764705882354, lift=6.12826797385621), OrderedStatistic(items_base=frozenset({'olive oil', '0', 'frozen vegetables'}), items_add=frozenset({'mineral water', 'milk'}), confidence=0.29411764705882354, lift=6.12826797385621), OrderedStatistic(items_base=frozenset({'frozen vegetables', 'mineral water', 'milk'}), items_add=frozenset({'olive oil', '0'}), confidence=0.30120481927710846, lift=4.582834380116816), OrderedStatistic(items_base=frozenset({'olive oil', 'frozen vegetables', 'mineral water'}), items_add=frozenset({'0', 'milk'}), confidence=0.5102040816326531, lift=3.937284790459394), OrderedStatistic(items_base=frozenset({'olive oil', 'mineral water', 'milk'}), items_add=frozenset({'0', 'frozen vegetables'}), confidence=0.39062500000000006, lift=4.098011363636364), OrderedStatistic(items_base=frozenset({'milk', '0', 'mineral water', 'frozen vegetables'}), items_add=frozenset({'olive oil'}), confidence=0.30120481927710846, lift=4.573557387444516), OrderedStatistic(items_base=frozenset({'olive oil', '0', 'mineral water', 'frozen vegetables'}), items_add=frozenset({'milk'}), confidence=0.5102040816326531, lift=3.937284790459394), OrderedStatistic(items_base=frozenset({'olive oil', '0', 'mineral water', 'milk'}), items_add=frozenset({'frozen vegetables'}), confidence=0.39062500000000006, lift=4.098011363636364)]), RelationRecord(items=frozenset({'soup', '0', 'frozen vegetables', 'milk', 'mineral water'}), support=0.0030662578322890282, ordered_statistics=[OrderedStatistic(items_base=frozenset({'soup', 'frozen vegetables'}), items_add=frozenset({'0', 'mineral water', 'milk'}), confidence=0.3833333333333333, lift=7.987175925925926), OrderedStatistic(items_base=frozenset({'soup', 'milk'}), items_add=frozenset({'0', 'mineral water', 'frozen vegetables'}), confidence=0.20175438596491227, lift=5.646864362398533), OrderedStatistic(items_base=frozenset({'soup', '0', 'frozen vegetables'}), items_add=frozenset({'mineral water', 'milk'}), confidence=0.3833333333333333, lift=7.987175925925926), OrderedStatistic(items_base=frozenset({'soup', '0', 'milk'}), items_add=frozenset({'frozen vegetables', 'mineral water'}), confidence=0.20175438596491227, lift=5.646864362398533), OrderedStatistic(items_base=frozenset({'frozen vegetables', 'mineral water', 'milk'}), items_add=frozenset({'soup', '0'}), confidence=0.27710843373493976, lift=5.484407286136631), OrderedStatistic(items_base=frozenset({'soup', 'frozen vegetables', 'milk'}), items_add=frozenset({'0', 'mineral water'}), confidence=0.7666666666666666, lift=3.218112292482745), OrderedStatistic(items_base=frozenset({'soup', 'frozen vegetables', 'mineral water'}), items_add=frozenset({'0', 'milk'}), confidence=0.6052631578947368, lift=4.670863114576565), OrderedStatistic(items_base=frozenset({'soup', 'mineral water', 'milk'}), items_add=frozenset({'0', 'frozen vegetables'}), confidence=0.35937500000000006, lift=3.7701704545454553), OrderedStatistic(items_base=frozenset({'milk', '0', 'mineral water', 'frozen vegetables'}), items_add=frozenset({'soup'}), confidence=0.27710843373493976, lift=5.484407286136631), OrderedStatistic(items_base=frozenset({'milk', 'soup', '0', 'frozen vegetables'}), items_add=frozenset({'mineral water'}), confidence=0.7666666666666666, lift=3.21631245339299), OrderedStatistic(items_base=frozenset({'soup', '0', 'mineral water', 'frozen vegetables'}), items_add=frozenset({'milk'}), confidence=0.6052631578947368, lift=4.670863114576565), OrderedStatistic(items_base=frozenset({'soup', '0', 'mineral water', 'milk'}), items_add=frozenset({'frozen vegetables'}), confidence=0.35937500000000006, lift=3.7701704545454553)]), RelationRecord(items=frozenset({'0', 'frozen vegetables', 'milk', 'spaghetti', 'mineral water'}), support=0.004532728969470737, ordered_statistics=[OrderedStatistic(items_base=frozenset({'spaghetti', 'mineral water', 'milk'}), items_add=frozenset({'0', 'frozen vegetables'}), confidence=0.28813559322033894, lift=3.0228043143297376), OrderedStatistic(items_base=frozenset({'spaghetti', '0', 'mineral water', 'milk'}), items_add=frozenset({'frozen vegetables'}), confidence=0.28813559322033894, lift=3.0228043143297376)]), RelationRecord(items=frozenset({'0', 'frozen vegetables', 'spaghetti', 'mineral water', 'shrimp'}), support=0.003332888948140248, ordered_statistics=[OrderedStatistic(items_base=frozenset({'shrimp', 'frozen vegetables'}), items_add=frozenset({'spaghetti', '0', 'mineral water'}), confidence=0.2, lift=3.3486607142857148), OrderedStatistic(items_base=frozenset({'shrimp', '0', 'frozen vegetables'}), items_add=frozenset({'spaghetti', 'mineral water'}), confidence=0.2, lift=3.3486607142857148), OrderedStatistic(items_base=frozenset({'spaghetti', 'frozen vegetables', 'mineral water'}), items_add=frozenset({'shrimp', '0'}), confidence=0.2777777777777778, lift=3.89460020768432), OrderedStatistic(items_base=frozenset({'shrimp', 'spaghetti', 'mineral water'}), items_add=frozenset({'0', 'frozen vegetables'}), confidence=0.39062500000000006, lift=4.098011363636364), OrderedStatistic(items_base=frozenset({'spaghetti', '0', 'mineral water', 'frozen vegetables'}), items_add=frozenset({'shrimp'}), confidence=0.2777777777777778, lift=3.8873341625207294), OrderedStatistic(items_base=frozenset({'shrimp', 'spaghetti', '0', 'mineral water'}), items_add=frozenset({'frozen vegetables'}), confidence=0.39062500000000006, lift=4.098011363636364)]), RelationRecord(items=frozenset({'0', 'frozen vegetables', 'tomatoes', 'spaghetti', 'mineral water'}), support=0.0030662578322890282, ordered_statistics=[OrderedStatistic(items_base=frozenset({'spaghetti', 'frozen vegetables', 'mineral water'}), items_add=frozenset({'tomatoes', '0'}), confidence=0.2555555555555556, lift=3.7366904916612524), OrderedStatistic(items_base=frozenset({'tomatoes', 'frozen vegetables', 'mineral water'}), items_add=frozenset({'spaghetti', '0'}), confidence=0.5227272727272727, lift=3.0022796881525826), OrderedStatistic(items_base=frozenset({'tomatoes', 'spaghetti', 'mineral water'}), items_add=frozenset({'0', 'frozen vegetables'}), confidence=0.32857142857142857, lift=3.447012987012987), OrderedStatistic(items_base=frozenset({'spaghetti', '0', 'mineral water', 'frozen vegetables'}), items_add=frozenset({'tomatoes'}), confidence=0.2555555555555556, lift=3.7366904916612524), OrderedStatistic(items_base=frozenset({'tomatoes', '0', 'mineral water', 'frozen vegetables'}), items_add=frozenset({'spaghetti'}), confidence=0.5227272727272727, lift=3.0022796881525826), OrderedStatistic(items_base=frozenset({'tomatoes', 'spaghetti', '0', 'mineral water'}), items_add=frozenset({'frozen vegetables'}), confidence=0.32857142857142857, lift=3.447012987012987)]), RelationRecord(items=frozenset({'0', 'milk', 'ground beef', 'spaghetti', 'mineral water'}), support=0.004399413411545127, ordered_statistics=[OrderedStatistic(items_base=frozenset({'ground beef', 'milk'}), items_add=frozenset({'spaghetti', '0', 'mineral water'}), confidence=0.2, lift=3.3486607142857148), OrderedStatistic(items_base=frozenset({'ground beef', '0', 'milk'}), items_add=frozenset({'spaghetti', 'mineral water'}), confidence=0.2, lift=3.3486607142857148)]), RelationRecord(items=frozenset({'0', 'ground beef', 'spaghetti', 'mineral water', 'olive oil'}), support=0.0030662578322890282, ordered_statistics=[OrderedStatistic(items_base=frozenset({'ground beef', 'olive oil'}), items_add=frozenset({'spaghetti', '0', 'mineral water'}), confidence=0.2169811320754717, lift=3.63298096361186), OrderedStatistic(items_base=frozenset({'ground beef', 'olive oil', '0'}), items_add=frozenset({'spaghetti', 'mineral water'}), confidence=0.2169811320754717, lift=3.63298096361186), OrderedStatistic(items_base=frozenset({'olive oil', 'spaghetti', 'mineral water'}), items_add=frozenset({'ground beef', '0'}), confidence=0.2987012987012987, lift=3.0401064335935435), OrderedStatistic(items_base=frozenset({'spaghetti', 'olive oil', '0', 'mineral water'}), items_add=frozenset({'ground beef'}), confidence=0.2987012987012987, lift=3.0401064335935435)]), RelationRecord(items=frozenset({'0', 'pancakes', 'ground beef', 'spaghetti', 'mineral water'}), support=0.0030662578322890282, ordered_statistics=[OrderedStatistic(items_base=frozenset({'pancakes', 'ground beef'}), items_add=frozenset({'spaghetti', '0', 'mineral water'}), confidence=0.21100917431192662, lift=3.532990661861075), OrderedStatistic(items_base=frozenset({'pancakes', 'ground beef', '0'}), items_add=frozenset({'spaghetti', 'mineral water'}), confidence=0.21100917431192662, lift=3.532990661861075)]), RelationRecord(items=frozenset({'0', 'tomatoes', 'ground beef', 'spaghetti', 'mineral water'}), support=0.0030662578322890282, ordered_statistics=[OrderedStatistic(items_base=frozenset({'ground beef', 'tomatoes'}), items_add=frozenset({'spaghetti', '0', 'mineral water'}), confidence=0.26136363636363635, lift=4.3760907061688314), OrderedStatistic(items_base=frozenset({'ground beef', 'tomatoes', '0'}), items_add=frozenset({'spaghetti', 'mineral water'}), confidence=0.26136363636363635, lift=4.3760907061688314), OrderedStatistic(items_base=frozenset({'ground beef', 'tomatoes', 'mineral water'}), items_add=frozenset({'spaghetti', '0'}), confidence=0.5609756097560976, lift=3.221958689724723), OrderedStatistic(items_base=frozenset({'tomatoes', 'spaghetti', 'mineral water'}), items_add=frozenset({'ground beef', '0'}), confidence=0.32857142857142857, lift=3.344117076952898), OrderedStatistic(items_base=frozenset({'ground beef', 'tomatoes', '0', 'mineral water'}), items_add=frozenset({'spaghetti'}), confidence=0.5609756097560976, lift=3.221958689724723), OrderedStatistic(items_base=frozenset({'tomatoes', 'spaghetti', '0', 'mineral water'}), items_add=frozenset({'ground beef'}), confidence=0.32857142857142857, lift=3.344117076952898)]), RelationRecord(items=frozenset({'0', 'milk', 'spaghetti', 'mineral water', 'olive oil'}), support=0.003332888948140248, ordered_statistics=[OrderedStatistic(items_base=frozenset({'spaghetti', 'mineral water', 'milk'}), items_add=frozenset({'olive oil', '0'}), confidence=0.211864406779661, lift=3.223519097878777), OrderedStatistic(items_base=frozenset({'spaghetti', '0', 'mineral water', 'milk'}), items_add=frozenset({'olive oil'}), confidence=0.211864406779661, lift=3.216993755575379)]), RelationRecord(items=frozenset({'0', 'tomatoes', 'milk', 'spaghetti', 'mineral water'}), support=0.003332888948140248, ordered_statistics=[OrderedStatistic(items_base=frozenset({'tomatoes', 'milk'}), items_add=frozenset({'spaghetti', '0', 'mineral water'}), confidence=0.2380952380952381, lift=3.9865008503401365), OrderedStatistic(items_base=frozenset({'tomatoes', '0', 'milk'}), items_add=frozenset({'spaghetti', 'mineral water'}), confidence=0.2380952380952381, lift=3.9865008503401365), OrderedStatistic(items_base=frozenset({'spaghetti', 'mineral water', 'milk'}), items_add=frozenset({'tomatoes', '0'}), confidence=0.211864406779661, lift=3.0978458387022165), OrderedStatistic(items_base=frozenset({'spaghetti', '0', 'mineral water', 'milk'}), items_add=frozenset({'tomatoes'}), confidence=0.211864406779661, lift=3.0978458387022165)])]\n"
     ]
    }
   ],
   "source": [
    "lst=list(rules)\n",
    "print(lst)"
   ]
  },
  {
   "cell_type": "code",
   "execution_count": 51,
   "id": "53a7f6c3-ee12-4d4e-b2ed-5a16f153b4c4",
   "metadata": {},
   "outputs": [
    {
     "data": {
      "text/plain": [
       "RelationRecord(items=frozenset({'mushroom cream sauce', 'escalope'}), support=0.005732568990801226, ordered_statistics=[OrderedStatistic(items_base=frozenset({'mushroom cream sauce'}), items_add=frozenset({'escalope'}), confidence=0.3006993006993007, lift=3.790832696715049)])"
      ]
     },
     "execution_count": 51,
     "metadata": {},
     "output_type": "execute_result"
    }
   ],
   "source": [
    "lst[1]"
   ]
  },
  {
   "cell_type": "code",
   "execution_count": 52,
   "id": "592e4c77-02a3-4745-ae3d-98a907584d0b",
   "metadata": {},
   "outputs": [],
   "source": [
    "result=pd.DataFrame(lst)"
   ]
  },
  {
   "cell_type": "code",
   "execution_count": 53,
   "id": "2ac46ea7-ada5-4b8b-be93-f0cca675edd7",
   "metadata": {},
   "outputs": [
    {
     "data": {
      "text/html": [
       "<div>\n",
       "<style scoped>\n",
       "    .dataframe tbody tr th:only-of-type {\n",
       "        vertical-align: middle;\n",
       "    }\n",
       "\n",
       "    .dataframe tbody tr th {\n",
       "        vertical-align: top;\n",
       "    }\n",
       "\n",
       "    .dataframe thead th {\n",
       "        text-align: right;\n",
       "    }\n",
       "</style>\n",
       "<table border=\"1\" class=\"dataframe\">\n",
       "  <thead>\n",
       "    <tr style=\"text-align: right;\">\n",
       "      <th></th>\n",
       "      <th>items</th>\n",
       "      <th>support</th>\n",
       "      <th>ordered_statistics</th>\n",
       "    </tr>\n",
       "  </thead>\n",
       "  <tbody>\n",
       "    <tr>\n",
       "      <th>0</th>\n",
       "      <td>(chicken, light cream)</td>\n",
       "      <td>0.004533</td>\n",
       "      <td>[((light cream), (chicken), 0.2905982905982905...</td>\n",
       "    </tr>\n",
       "    <tr>\n",
       "      <th>1</th>\n",
       "      <td>(mushroom cream sauce, escalope)</td>\n",
       "      <td>0.005733</td>\n",
       "      <td>[((mushroom cream sauce), (escalope), 0.300699...</td>\n",
       "    </tr>\n",
       "    <tr>\n",
       "      <th>2</th>\n",
       "      <td>(pasta, escalope)</td>\n",
       "      <td>0.005866</td>\n",
       "      <td>[((pasta), (escalope), 0.3728813559322034, 4.7...</td>\n",
       "    </tr>\n",
       "    <tr>\n",
       "      <th>3</th>\n",
       "      <td>(honey, fromage blanc)</td>\n",
       "      <td>0.003333</td>\n",
       "      <td>[((fromage blanc), (honey), 0.2450980392156863...</td>\n",
       "    </tr>\n",
       "    <tr>\n",
       "      <th>4</th>\n",
       "      <td>(herb &amp; pepper, ground beef)</td>\n",
       "      <td>0.015998</td>\n",
       "      <td>[((herb &amp; pepper), (ground beef), 0.3234501347...</td>\n",
       "    </tr>\n",
       "    <tr>\n",
       "      <th>...</th>\n",
       "      <td>...</td>\n",
       "      <td>...</td>\n",
       "      <td>...</td>\n",
       "    </tr>\n",
       "    <tr>\n",
       "      <th>155</th>\n",
       "      <td>(0, ground beef, spaghetti, mineral water, oli...</td>\n",
       "      <td>0.003066</td>\n",
       "      <td>[((ground beef, olive oil), (spaghetti, 0, min...</td>\n",
       "    </tr>\n",
       "    <tr>\n",
       "      <th>156</th>\n",
       "      <td>(0, pancakes, ground beef, spaghetti, mineral ...</td>\n",
       "      <td>0.003066</td>\n",
       "      <td>[((pancakes, ground beef), (spaghetti, 0, mine...</td>\n",
       "    </tr>\n",
       "    <tr>\n",
       "      <th>157</th>\n",
       "      <td>(0, tomatoes, ground beef, spaghetti, mineral ...</td>\n",
       "      <td>0.003066</td>\n",
       "      <td>[((ground beef, tomatoes), (spaghetti, 0, mine...</td>\n",
       "    </tr>\n",
       "    <tr>\n",
       "      <th>158</th>\n",
       "      <td>(0, milk, spaghetti, mineral water, olive oil)</td>\n",
       "      <td>0.003333</td>\n",
       "      <td>[((spaghetti, mineral water, milk), (olive oil...</td>\n",
       "    </tr>\n",
       "    <tr>\n",
       "      <th>159</th>\n",
       "      <td>(0, tomatoes, milk, spaghetti, mineral water)</td>\n",
       "      <td>0.003333</td>\n",
       "      <td>[((tomatoes, milk), (spaghetti, 0, mineral wat...</td>\n",
       "    </tr>\n",
       "  </tbody>\n",
       "</table>\n",
       "<p>160 rows × 3 columns</p>\n",
       "</div>"
      ],
      "text/plain": [
       "                                                 items   support  \\\n",
       "0                               (chicken, light cream)  0.004533   \n",
       "1                     (mushroom cream sauce, escalope)  0.005733   \n",
       "2                                    (pasta, escalope)  0.005866   \n",
       "3                               (honey, fromage blanc)  0.003333   \n",
       "4                         (herb & pepper, ground beef)  0.015998   \n",
       "..                                                 ...       ...   \n",
       "155  (0, ground beef, spaghetti, mineral water, oli...  0.003066   \n",
       "156  (0, pancakes, ground beef, spaghetti, mineral ...  0.003066   \n",
       "157  (0, tomatoes, ground beef, spaghetti, mineral ...  0.003066   \n",
       "158     (0, milk, spaghetti, mineral water, olive oil)  0.003333   \n",
       "159      (0, tomatoes, milk, spaghetti, mineral water)  0.003333   \n",
       "\n",
       "                                    ordered_statistics  \n",
       "0    [((light cream), (chicken), 0.2905982905982905...  \n",
       "1    [((mushroom cream sauce), (escalope), 0.300699...  \n",
       "2    [((pasta), (escalope), 0.3728813559322034, 4.7...  \n",
       "3    [((fromage blanc), (honey), 0.2450980392156863...  \n",
       "4    [((herb & pepper), (ground beef), 0.3234501347...  \n",
       "..                                                 ...  \n",
       "155  [((ground beef, olive oil), (spaghetti, 0, min...  \n",
       "156  [((pancakes, ground beef), (spaghetti, 0, mine...  \n",
       "157  [((ground beef, tomatoes), (spaghetti, 0, mine...  \n",
       "158  [((spaghetti, mineral water, milk), (olive oil...  \n",
       "159  [((tomatoes, milk), (spaghetti, 0, mineral wat...  \n",
       "\n",
       "[160 rows x 3 columns]"
      ]
     },
     "execution_count": 53,
     "metadata": {},
     "output_type": "execute_result"
    }
   ],
   "source": [
    "result"
   ]
  },
  {
   "cell_type": "code",
   "execution_count": null,
   "id": "66586371-79e1-46e9-8d85-c82d7810dacd",
   "metadata": {},
   "outputs": [],
   "source": []
  },
  {
   "cell_type": "code",
   "execution_count": null,
   "id": "86d1fc27-2082-413c-b888-a5751468adac",
   "metadata": {},
   "outputs": [],
   "source": []
  },
  {
   "cell_type": "code",
   "execution_count": null,
   "id": "c471b87d-cb5a-4ae1-8bf7-10ad628bb83b",
   "metadata": {},
   "outputs": [],
   "source": []
  },
  {
   "cell_type": "code",
   "execution_count": null,
   "id": "957c9bc9-e8be-43fc-93ec-9d476794cf4e",
   "metadata": {},
   "outputs": [],
   "source": []
  }
 ],
 "metadata": {
  "kernelspec": {
   "display_name": "Python 3 (ipykernel)",
   "language": "python",
   "name": "python3"
  },
  "language_info": {
   "codemirror_mode": {
    "name": "ipython",
    "version": 3
   },
   "file_extension": ".py",
   "mimetype": "text/x-python",
   "name": "python",
   "nbconvert_exporter": "python",
   "pygments_lexer": "ipython3",
   "version": "3.11.7"
  }
 },
 "nbformat": 4,
 "nbformat_minor": 5
}
